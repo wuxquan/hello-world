{
  "nbformat": 4,
  "nbformat_minor": 0,
  "metadata": {
    "colab": {
      "name": "MichaelClass.ipynb",
      "provenance": [],
      "collapsed_sections": [],
      "mount_file_id": "17FNG-0ljfblumGCi3SdI59AkkbqhCvso",
      "authorship_tag": "ABX9TyPmhfJMBVEyFmVkRjTqM0/N",
      "include_colab_link": true
    },
    "kernelspec": {
      "name": "python3",
      "display_name": "Python 3"
    }
  },
  "cells": [
    {
      "cell_type": "markdown",
      "metadata": {
        "id": "view-in-github",
        "colab_type": "text"
      },
      "source": [
        "<a href=\"https://colab.research.google.com/github/wuxquan/hello-world/blob/master/MichaelClass.ipynb\" target=\"_parent\"><img src=\"https://colab.research.google.com/assets/colab-badge.svg\" alt=\"Open In Colab\"/></a>"
      ]
    },
    {
      "cell_type": "markdown",
      "metadata": {
        "id": "hutUlSUN14ma"
      },
      "source": [
        "add text into colab\n",
        "write note along with writing code , just like word plus python"
      ]
    },
    {
      "cell_type": "markdown",
      "metadata": {
        "id": "flNu1XA04vH8"
      },
      "source": [
        "Python Basics review start ----Data Manipulation Recap\n",
        "Proportion of boys with the name Michael\n",
        "use graphic line chart -- along with time\n",
        "so filter !  "
      ]
    },
    {
      "cell_type": "code",
      "metadata": {
        "id": "nZ9fAzwY40IJ"
      },
      "source": [
        "import pandas as pd\n"
      ],
      "execution_count": null,
      "outputs": []
    },
    {
      "cell_type": "code",
      "metadata": {
        "id": "CwPt_Nd-5vDn"
      },
      "source": [
        "df = pd.read_csv(\"/content/drive/My Drive/data/babynames.csv\")"
      ],
      "execution_count": null,
      "outputs": []
    },
    {
      "cell_type": "code",
      "metadata": {
        "id": "uKgS_vfD6rTl",
        "colab": {
          "base_uri": "https://localhost:8080/",
          "height": 194
        },
        "outputId": "c6de854e-fcb9-4d2c-f0fa-304273f592b9"
      },
      "source": [
        "df.head()\n"
      ],
      "execution_count": null,
      "outputs": [
        {
          "output_type": "execute_result",
          "data": {
            "text/html": [
              "<div>\n",
              "<style scoped>\n",
              "    .dataframe tbody tr th:only-of-type {\n",
              "        vertical-align: middle;\n",
              "    }\n",
              "\n",
              "    .dataframe tbody tr th {\n",
              "        vertical-align: top;\n",
              "    }\n",
              "\n",
              "    .dataframe thead th {\n",
              "        text-align: right;\n",
              "    }\n",
              "</style>\n",
              "<table border=\"1\" class=\"dataframe\">\n",
              "  <thead>\n",
              "    <tr style=\"text-align: right;\">\n",
              "      <th></th>\n",
              "      <th>year</th>\n",
              "      <th>sex</th>\n",
              "      <th>name</th>\n",
              "      <th>n</th>\n",
              "      <th>prop</th>\n",
              "    </tr>\n",
              "  </thead>\n",
              "  <tbody>\n",
              "    <tr>\n",
              "      <th>0</th>\n",
              "      <td>1880</td>\n",
              "      <td>F</td>\n",
              "      <td>Mary</td>\n",
              "      <td>7065</td>\n",
              "      <td>0.072384</td>\n",
              "    </tr>\n",
              "    <tr>\n",
              "      <th>1</th>\n",
              "      <td>1880</td>\n",
              "      <td>F</td>\n",
              "      <td>Anna</td>\n",
              "      <td>2604</td>\n",
              "      <td>0.026679</td>\n",
              "    </tr>\n",
              "    <tr>\n",
              "      <th>2</th>\n",
              "      <td>1880</td>\n",
              "      <td>F</td>\n",
              "      <td>Emma</td>\n",
              "      <td>2003</td>\n",
              "      <td>0.020521</td>\n",
              "    </tr>\n",
              "    <tr>\n",
              "      <th>3</th>\n",
              "      <td>1880</td>\n",
              "      <td>F</td>\n",
              "      <td>Elizabeth</td>\n",
              "      <td>1939</td>\n",
              "      <td>0.019866</td>\n",
              "    </tr>\n",
              "    <tr>\n",
              "      <th>4</th>\n",
              "      <td>1880</td>\n",
              "      <td>F</td>\n",
              "      <td>Minnie</td>\n",
              "      <td>1746</td>\n",
              "      <td>0.017888</td>\n",
              "    </tr>\n",
              "  </tbody>\n",
              "</table>\n",
              "</div>"
            ],
            "text/plain": [
              "   year sex       name     n      prop\n",
              "0  1880   F       Mary  7065  0.072384\n",
              "1  1880   F       Anna  2604  0.026679\n",
              "2  1880   F       Emma  2003  0.020521\n",
              "3  1880   F  Elizabeth  1939  0.019866\n",
              "4  1880   F     Minnie  1746  0.017888"
            ]
          },
          "metadata": {
            "tags": []
          },
          "execution_count": 8
        }
      ]
    },
    {
      "cell_type": "code",
      "metadata": {
        "id": "udPZOoTt62wU",
        "colab": {
          "base_uri": "https://localhost:8080/",
          "height": 162
        },
        "outputId": "1581dff5-ffa3-4c86-88e6-1d447fd55bad"
      },
      "source": [
        "babynames[babynames['year']>2000]"
      ],
      "execution_count": null,
      "outputs": [
        {
          "output_type": "error",
          "ename": "NameError",
          "evalue": "ignored",
          "traceback": [
            "\u001b[0;31m---------------------------------------------------------------------------\u001b[0m",
            "\u001b[0;31mNameError\u001b[0m                                 Traceback (most recent call last)",
            "\u001b[0;32m<ipython-input-9-de966369e707>\u001b[0m in \u001b[0;36m<module>\u001b[0;34m()\u001b[0m\n\u001b[0;32m----> 1\u001b[0;31m \u001b[0mbabynames\u001b[0m\u001b[0;34m[\u001b[0m\u001b[0mbabynames\u001b[0m\u001b[0;34m[\u001b[0m\u001b[0;34m'year'\u001b[0m\u001b[0;34m]\u001b[0m\u001b[0;34m>\u001b[0m\u001b[0;36m2000\u001b[0m\u001b[0;34m]\u001b[0m\u001b[0;34m\u001b[0m\u001b[0;34m\u001b[0m\u001b[0m\n\u001b[0m",
            "\u001b[0;31mNameError\u001b[0m: name 'babynames' is not defined"
          ]
        }
      ]
    },
    {
      "cell_type": "code",
      "metadata": {
        "id": "So1zd0NG8NKC",
        "colab": {
          "base_uri": "https://localhost:8080/",
          "height": 399
        },
        "outputId": "d5013e6c-f6c9-43ea-cae2-99e1799278f1"
      },
      "source": [
        "df[df['year']>2000]"
      ],
      "execution_count": null,
      "outputs": [
        {
          "output_type": "execute_result",
          "data": {
            "text/html": [
              "<div>\n",
              "<style scoped>\n",
              "    .dataframe tbody tr th:only-of-type {\n",
              "        vertical-align: middle;\n",
              "    }\n",
              "\n",
              "    .dataframe tbody tr th {\n",
              "        vertical-align: top;\n",
              "    }\n",
              "\n",
              "    .dataframe thead th {\n",
              "        text-align: right;\n",
              "    }\n",
              "</style>\n",
              "<table border=\"1\" class=\"dataframe\">\n",
              "  <thead>\n",
              "    <tr style=\"text-align: right;\">\n",
              "      <th></th>\n",
              "      <th>year</th>\n",
              "      <th>sex</th>\n",
              "      <th>name</th>\n",
              "      <th>n</th>\n",
              "      <th>prop</th>\n",
              "    </tr>\n",
              "  </thead>\n",
              "  <tbody>\n",
              "    <tr>\n",
              "      <th>1362509</th>\n",
              "      <td>2001</td>\n",
              "      <td>F</td>\n",
              "      <td>Emily</td>\n",
              "      <td>25055</td>\n",
              "      <td>0.012654</td>\n",
              "    </tr>\n",
              "    <tr>\n",
              "      <th>1362510</th>\n",
              "      <td>2001</td>\n",
              "      <td>F</td>\n",
              "      <td>Madison</td>\n",
              "      <td>22164</td>\n",
              "      <td>0.011194</td>\n",
              "    </tr>\n",
              "    <tr>\n",
              "      <th>1362511</th>\n",
              "      <td>2001</td>\n",
              "      <td>F</td>\n",
              "      <td>Hannah</td>\n",
              "      <td>20712</td>\n",
              "      <td>0.010460</td>\n",
              "    </tr>\n",
              "    <tr>\n",
              "      <th>1362512</th>\n",
              "      <td>2001</td>\n",
              "      <td>F</td>\n",
              "      <td>Ashley</td>\n",
              "      <td>16526</td>\n",
              "      <td>0.008346</td>\n",
              "    </tr>\n",
              "    <tr>\n",
              "      <th>1362513</th>\n",
              "      <td>2001</td>\n",
              "      <td>F</td>\n",
              "      <td>Alexis</td>\n",
              "      <td>16401</td>\n",
              "      <td>0.008283</td>\n",
              "    </tr>\n",
              "    <tr>\n",
              "      <th>...</th>\n",
              "      <td>...</td>\n",
              "      <td>...</td>\n",
              "      <td>...</td>\n",
              "      <td>...</td>\n",
              "      <td>...</td>\n",
              "    </tr>\n",
              "    <tr>\n",
              "      <th>1924660</th>\n",
              "      <td>2017</td>\n",
              "      <td>M</td>\n",
              "      <td>Zykai</td>\n",
              "      <td>5</td>\n",
              "      <td>0.000003</td>\n",
              "    </tr>\n",
              "    <tr>\n",
              "      <th>1924661</th>\n",
              "      <td>2017</td>\n",
              "      <td>M</td>\n",
              "      <td>Zykeem</td>\n",
              "      <td>5</td>\n",
              "      <td>0.000003</td>\n",
              "    </tr>\n",
              "    <tr>\n",
              "      <th>1924662</th>\n",
              "      <td>2017</td>\n",
              "      <td>M</td>\n",
              "      <td>Zylin</td>\n",
              "      <td>5</td>\n",
              "      <td>0.000003</td>\n",
              "    </tr>\n",
              "    <tr>\n",
              "      <th>1924663</th>\n",
              "      <td>2017</td>\n",
              "      <td>M</td>\n",
              "      <td>Zylis</td>\n",
              "      <td>5</td>\n",
              "      <td>0.000003</td>\n",
              "    </tr>\n",
              "    <tr>\n",
              "      <th>1924664</th>\n",
              "      <td>2017</td>\n",
              "      <td>M</td>\n",
              "      <td>Zyrie</td>\n",
              "      <td>5</td>\n",
              "      <td>0.000003</td>\n",
              "    </tr>\n",
              "  </tbody>\n",
              "</table>\n",
              "<p>562156 rows × 5 columns</p>\n",
              "</div>"
            ],
            "text/plain": [
              "         year sex     name      n      prop\n",
              "1362509  2001   F    Emily  25055  0.012654\n",
              "1362510  2001   F  Madison  22164  0.011194\n",
              "1362511  2001   F   Hannah  20712  0.010460\n",
              "1362512  2001   F   Ashley  16526  0.008346\n",
              "1362513  2001   F   Alexis  16401  0.008283\n",
              "...       ...  ..      ...    ...       ...\n",
              "1924660  2017   M    Zykai      5  0.000003\n",
              "1924661  2017   M   Zykeem      5  0.000003\n",
              "1924662  2017   M    Zylin      5  0.000003\n",
              "1924663  2017   M    Zylis      5  0.000003\n",
              "1924664  2017   M    Zyrie      5  0.000003\n",
              "\n",
              "[562156 rows x 5 columns]"
            ]
          },
          "metadata": {
            "tags": []
          },
          "execution_count": 10
        }
      ]
    },
    {
      "cell_type": "code",
      "metadata": {
        "id": "E3v5eaB68U00",
        "colab": {
          "base_uri": "https://localhost:8080/",
          "height": 928
        },
        "outputId": "da35d943-febe-4dd3-be25-bba3564d7a74"
      },
      "source": [
        "df[0:30]"
      ],
      "execution_count": null,
      "outputs": [
        {
          "output_type": "execute_result",
          "data": {
            "text/html": [
              "<div>\n",
              "<style scoped>\n",
              "    .dataframe tbody tr th:only-of-type {\n",
              "        vertical-align: middle;\n",
              "    }\n",
              "\n",
              "    .dataframe tbody tr th {\n",
              "        vertical-align: top;\n",
              "    }\n",
              "\n",
              "    .dataframe thead th {\n",
              "        text-align: right;\n",
              "    }\n",
              "</style>\n",
              "<table border=\"1\" class=\"dataframe\">\n",
              "  <thead>\n",
              "    <tr style=\"text-align: right;\">\n",
              "      <th></th>\n",
              "      <th>year</th>\n",
              "      <th>sex</th>\n",
              "      <th>name</th>\n",
              "      <th>n</th>\n",
              "      <th>prop</th>\n",
              "    </tr>\n",
              "  </thead>\n",
              "  <tbody>\n",
              "    <tr>\n",
              "      <th>0</th>\n",
              "      <td>1880</td>\n",
              "      <td>F</td>\n",
              "      <td>Mary</td>\n",
              "      <td>7065</td>\n",
              "      <td>0.072384</td>\n",
              "    </tr>\n",
              "    <tr>\n",
              "      <th>1</th>\n",
              "      <td>1880</td>\n",
              "      <td>F</td>\n",
              "      <td>Anna</td>\n",
              "      <td>2604</td>\n",
              "      <td>0.026679</td>\n",
              "    </tr>\n",
              "    <tr>\n",
              "      <th>2</th>\n",
              "      <td>1880</td>\n",
              "      <td>F</td>\n",
              "      <td>Emma</td>\n",
              "      <td>2003</td>\n",
              "      <td>0.020521</td>\n",
              "    </tr>\n",
              "    <tr>\n",
              "      <th>3</th>\n",
              "      <td>1880</td>\n",
              "      <td>F</td>\n",
              "      <td>Elizabeth</td>\n",
              "      <td>1939</td>\n",
              "      <td>0.019866</td>\n",
              "    </tr>\n",
              "    <tr>\n",
              "      <th>4</th>\n",
              "      <td>1880</td>\n",
              "      <td>F</td>\n",
              "      <td>Minnie</td>\n",
              "      <td>1746</td>\n",
              "      <td>0.017888</td>\n",
              "    </tr>\n",
              "    <tr>\n",
              "      <th>5</th>\n",
              "      <td>1880</td>\n",
              "      <td>F</td>\n",
              "      <td>Margaret</td>\n",
              "      <td>1578</td>\n",
              "      <td>0.016167</td>\n",
              "    </tr>\n",
              "    <tr>\n",
              "      <th>6</th>\n",
              "      <td>1880</td>\n",
              "      <td>F</td>\n",
              "      <td>Ida</td>\n",
              "      <td>1472</td>\n",
              "      <td>0.015081</td>\n",
              "    </tr>\n",
              "    <tr>\n",
              "      <th>7</th>\n",
              "      <td>1880</td>\n",
              "      <td>F</td>\n",
              "      <td>Alice</td>\n",
              "      <td>1414</td>\n",
              "      <td>0.014487</td>\n",
              "    </tr>\n",
              "    <tr>\n",
              "      <th>8</th>\n",
              "      <td>1880</td>\n",
              "      <td>F</td>\n",
              "      <td>Bertha</td>\n",
              "      <td>1320</td>\n",
              "      <td>0.013524</td>\n",
              "    </tr>\n",
              "    <tr>\n",
              "      <th>9</th>\n",
              "      <td>1880</td>\n",
              "      <td>F</td>\n",
              "      <td>Sarah</td>\n",
              "      <td>1288</td>\n",
              "      <td>0.013196</td>\n",
              "    </tr>\n",
              "    <tr>\n",
              "      <th>10</th>\n",
              "      <td>1880</td>\n",
              "      <td>F</td>\n",
              "      <td>Annie</td>\n",
              "      <td>1258</td>\n",
              "      <td>0.012889</td>\n",
              "    </tr>\n",
              "    <tr>\n",
              "      <th>11</th>\n",
              "      <td>1880</td>\n",
              "      <td>F</td>\n",
              "      <td>Clara</td>\n",
              "      <td>1226</td>\n",
              "      <td>0.012561</td>\n",
              "    </tr>\n",
              "    <tr>\n",
              "      <th>12</th>\n",
              "      <td>1880</td>\n",
              "      <td>F</td>\n",
              "      <td>Ella</td>\n",
              "      <td>1156</td>\n",
              "      <td>0.011844</td>\n",
              "    </tr>\n",
              "    <tr>\n",
              "      <th>13</th>\n",
              "      <td>1880</td>\n",
              "      <td>F</td>\n",
              "      <td>Florence</td>\n",
              "      <td>1063</td>\n",
              "      <td>0.010891</td>\n",
              "    </tr>\n",
              "    <tr>\n",
              "      <th>14</th>\n",
              "      <td>1880</td>\n",
              "      <td>F</td>\n",
              "      <td>Cora</td>\n",
              "      <td>1045</td>\n",
              "      <td>0.010706</td>\n",
              "    </tr>\n",
              "    <tr>\n",
              "      <th>15</th>\n",
              "      <td>1880</td>\n",
              "      <td>F</td>\n",
              "      <td>Martha</td>\n",
              "      <td>1040</td>\n",
              "      <td>0.010655</td>\n",
              "    </tr>\n",
              "    <tr>\n",
              "      <th>16</th>\n",
              "      <td>1880</td>\n",
              "      <td>F</td>\n",
              "      <td>Laura</td>\n",
              "      <td>1012</td>\n",
              "      <td>0.010368</td>\n",
              "    </tr>\n",
              "    <tr>\n",
              "      <th>17</th>\n",
              "      <td>1880</td>\n",
              "      <td>F</td>\n",
              "      <td>Nellie</td>\n",
              "      <td>995</td>\n",
              "      <td>0.010194</td>\n",
              "    </tr>\n",
              "    <tr>\n",
              "      <th>18</th>\n",
              "      <td>1880</td>\n",
              "      <td>F</td>\n",
              "      <td>Grace</td>\n",
              "      <td>982</td>\n",
              "      <td>0.010061</td>\n",
              "    </tr>\n",
              "    <tr>\n",
              "      <th>19</th>\n",
              "      <td>1880</td>\n",
              "      <td>F</td>\n",
              "      <td>Carrie</td>\n",
              "      <td>949</td>\n",
              "      <td>0.009723</td>\n",
              "    </tr>\n",
              "    <tr>\n",
              "      <th>20</th>\n",
              "      <td>1880</td>\n",
              "      <td>F</td>\n",
              "      <td>Maude</td>\n",
              "      <td>858</td>\n",
              "      <td>0.008791</td>\n",
              "    </tr>\n",
              "    <tr>\n",
              "      <th>21</th>\n",
              "      <td>1880</td>\n",
              "      <td>F</td>\n",
              "      <td>Mabel</td>\n",
              "      <td>808</td>\n",
              "      <td>0.008278</td>\n",
              "    </tr>\n",
              "    <tr>\n",
              "      <th>22</th>\n",
              "      <td>1880</td>\n",
              "      <td>F</td>\n",
              "      <td>Bessie</td>\n",
              "      <td>796</td>\n",
              "      <td>0.008155</td>\n",
              "    </tr>\n",
              "    <tr>\n",
              "      <th>23</th>\n",
              "      <td>1880</td>\n",
              "      <td>F</td>\n",
              "      <td>Jennie</td>\n",
              "      <td>793</td>\n",
              "      <td>0.008125</td>\n",
              "    </tr>\n",
              "    <tr>\n",
              "      <th>24</th>\n",
              "      <td>1880</td>\n",
              "      <td>F</td>\n",
              "      <td>Gertrude</td>\n",
              "      <td>787</td>\n",
              "      <td>0.008063</td>\n",
              "    </tr>\n",
              "    <tr>\n",
              "      <th>25</th>\n",
              "      <td>1880</td>\n",
              "      <td>F</td>\n",
              "      <td>Julia</td>\n",
              "      <td>783</td>\n",
              "      <td>0.008022</td>\n",
              "    </tr>\n",
              "    <tr>\n",
              "      <th>26</th>\n",
              "      <td>1880</td>\n",
              "      <td>F</td>\n",
              "      <td>Hattie</td>\n",
              "      <td>769</td>\n",
              "      <td>0.007879</td>\n",
              "    </tr>\n",
              "    <tr>\n",
              "      <th>27</th>\n",
              "      <td>1880</td>\n",
              "      <td>F</td>\n",
              "      <td>Edith</td>\n",
              "      <td>768</td>\n",
              "      <td>0.007868</td>\n",
              "    </tr>\n",
              "    <tr>\n",
              "      <th>28</th>\n",
              "      <td>1880</td>\n",
              "      <td>F</td>\n",
              "      <td>Mattie</td>\n",
              "      <td>704</td>\n",
              "      <td>0.007213</td>\n",
              "    </tr>\n",
              "    <tr>\n",
              "      <th>29</th>\n",
              "      <td>1880</td>\n",
              "      <td>F</td>\n",
              "      <td>Rose</td>\n",
              "      <td>700</td>\n",
              "      <td>0.007172</td>\n",
              "    </tr>\n",
              "  </tbody>\n",
              "</table>\n",
              "</div>"
            ],
            "text/plain": [
              "    year sex       name     n      prop\n",
              "0   1880   F       Mary  7065  0.072384\n",
              "1   1880   F       Anna  2604  0.026679\n",
              "2   1880   F       Emma  2003  0.020521\n",
              "3   1880   F  Elizabeth  1939  0.019866\n",
              "4   1880   F     Minnie  1746  0.017888\n",
              "5   1880   F   Margaret  1578  0.016167\n",
              "6   1880   F        Ida  1472  0.015081\n",
              "7   1880   F      Alice  1414  0.014487\n",
              "8   1880   F     Bertha  1320  0.013524\n",
              "9   1880   F      Sarah  1288  0.013196\n",
              "10  1880   F      Annie  1258  0.012889\n",
              "11  1880   F      Clara  1226  0.012561\n",
              "12  1880   F       Ella  1156  0.011844\n",
              "13  1880   F   Florence  1063  0.010891\n",
              "14  1880   F       Cora  1045  0.010706\n",
              "15  1880   F     Martha  1040  0.010655\n",
              "16  1880   F      Laura  1012  0.010368\n",
              "17  1880   F     Nellie   995  0.010194\n",
              "18  1880   F      Grace   982  0.010061\n",
              "19  1880   F     Carrie   949  0.009723\n",
              "20  1880   F      Maude   858  0.008791\n",
              "21  1880   F      Mabel   808  0.008278\n",
              "22  1880   F     Bessie   796  0.008155\n",
              "23  1880   F     Jennie   793  0.008125\n",
              "24  1880   F   Gertrude   787  0.008063\n",
              "25  1880   F      Julia   783  0.008022\n",
              "26  1880   F     Hattie   769  0.007879\n",
              "27  1880   F      Edith   768  0.007868\n",
              "28  1880   F     Mattie   704  0.007213\n",
              "29  1880   F       Rose   700  0.007172"
            ]
          },
          "metadata": {
            "tags": []
          },
          "execution_count": 11
        }
      ]
    },
    {
      "cell_type": "code",
      "metadata": {
        "id": "v_8laUlD8fBb",
        "colab": {
          "base_uri": "https://localhost:8080/",
          "height": 399
        },
        "outputId": "88aba0f0-5dde-4710-eca1-56be8cbb083b"
      },
      "source": [
        "df[df['name']=='Michael']"
      ],
      "execution_count": null,
      "outputs": [
        {
          "output_type": "execute_result",
          "data": {
            "text/html": [
              "<div>\n",
              "<style scoped>\n",
              "    .dataframe tbody tr th:only-of-type {\n",
              "        vertical-align: middle;\n",
              "    }\n",
              "\n",
              "    .dataframe tbody tr th {\n",
              "        vertical-align: top;\n",
              "    }\n",
              "\n",
              "    .dataframe thead th {\n",
              "        text-align: right;\n",
              "    }\n",
              "</style>\n",
              "<table border=\"1\" class=\"dataframe\">\n",
              "  <thead>\n",
              "    <tr style=\"text-align: right;\">\n",
              "      <th></th>\n",
              "      <th>year</th>\n",
              "      <th>sex</th>\n",
              "      <th>name</th>\n",
              "      <th>n</th>\n",
              "      <th>prop</th>\n",
              "    </tr>\n",
              "  </thead>\n",
              "  <tbody>\n",
              "    <tr>\n",
              "      <th>987</th>\n",
              "      <td>1880</td>\n",
              "      <td>M</td>\n",
              "      <td>Michael</td>\n",
              "      <td>354</td>\n",
              "      <td>0.002990</td>\n",
              "    </tr>\n",
              "    <tr>\n",
              "      <th>2991</th>\n",
              "      <td>1881</td>\n",
              "      <td>M</td>\n",
              "      <td>Michael</td>\n",
              "      <td>298</td>\n",
              "      <td>0.002752</td>\n",
              "    </tr>\n",
              "    <tr>\n",
              "      <th>5019</th>\n",
              "      <td>1882</td>\n",
              "      <td>M</td>\n",
              "      <td>Michael</td>\n",
              "      <td>321</td>\n",
              "      <td>0.002630</td>\n",
              "    </tr>\n",
              "    <tr>\n",
              "      <th>7170</th>\n",
              "      <td>1883</td>\n",
              "      <td>M</td>\n",
              "      <td>Michael</td>\n",
              "      <td>307</td>\n",
              "      <td>0.002729</td>\n",
              "    </tr>\n",
              "    <tr>\n",
              "      <th>9368</th>\n",
              "      <td>1884</td>\n",
              "      <td>M</td>\n",
              "      <td>Michael</td>\n",
              "      <td>373</td>\n",
              "      <td>0.003039</td>\n",
              "    </tr>\n",
              "    <tr>\n",
              "      <th>...</th>\n",
              "      <td>...</td>\n",
              "      <td>...</td>\n",
              "      <td>...</td>\n",
              "      <td>...</td>\n",
              "      <td>...</td>\n",
              "    </tr>\n",
              "    <tr>\n",
              "      <th>1845201</th>\n",
              "      <td>2015</td>\n",
              "      <td>M</td>\n",
              "      <td>Michael</td>\n",
              "      <td>14413</td>\n",
              "      <td>0.007071</td>\n",
              "    </tr>\n",
              "    <tr>\n",
              "      <th>1863518</th>\n",
              "      <td>2016</td>\n",
              "      <td>F</td>\n",
              "      <td>Michael</td>\n",
              "      <td>34</td>\n",
              "      <td>0.000018</td>\n",
              "    </tr>\n",
              "    <tr>\n",
              "      <th>1878041</th>\n",
              "      <td>2016</td>\n",
              "      <td>M</td>\n",
              "      <td>Michael</td>\n",
              "      <td>14057</td>\n",
              "      <td>0.006967</td>\n",
              "    </tr>\n",
              "    <tr>\n",
              "      <th>1896516</th>\n",
              "      <td>2017</td>\n",
              "      <td>F</td>\n",
              "      <td>Michael</td>\n",
              "      <td>33</td>\n",
              "      <td>0.000018</td>\n",
              "    </tr>\n",
              "    <tr>\n",
              "      <th>1910516</th>\n",
              "      <td>2017</td>\n",
              "      <td>M</td>\n",
              "      <td>Michael</td>\n",
              "      <td>12579</td>\n",
              "      <td>0.006407</td>\n",
              "    </tr>\n",
              "  </tbody>\n",
              "</table>\n",
              "<p>249 rows × 5 columns</p>\n",
              "</div>"
            ],
            "text/plain": [
              "         year sex     name      n      prop\n",
              "987      1880   M  Michael    354  0.002990\n",
              "2991     1881   M  Michael    298  0.002752\n",
              "5019     1882   M  Michael    321  0.002630\n",
              "7170     1883   M  Michael    307  0.002729\n",
              "9368     1884   M  Michael    373  0.003039\n",
              "...       ...  ..      ...    ...       ...\n",
              "1845201  2015   M  Michael  14413  0.007071\n",
              "1863518  2016   F  Michael     34  0.000018\n",
              "1878041  2016   M  Michael  14057  0.006967\n",
              "1896516  2017   F  Michael     33  0.000018\n",
              "1910516  2017   M  Michael  12579  0.006407\n",
              "\n",
              "[249 rows x 5 columns]"
            ]
          },
          "metadata": {
            "tags": []
          },
          "execution_count": 12
        }
      ]
    },
    {
      "cell_type": "code",
      "metadata": {
        "id": "13dmly-u8nes",
        "colab": {
          "base_uri": "https://localhost:8080/",
          "height": 399
        },
        "outputId": "21099978-d736-4e04-fe4b-09620719b1fe"
      },
      "source": [
        "df[df['year'].isin([1999,2000])]"
      ],
      "execution_count": null,
      "outputs": [
        {
          "output_type": "execute_result",
          "data": {
            "text/html": [
              "<div>\n",
              "<style scoped>\n",
              "    .dataframe tbody tr th:only-of-type {\n",
              "        vertical-align: middle;\n",
              "    }\n",
              "\n",
              "    .dataframe tbody tr th {\n",
              "        vertical-align: top;\n",
              "    }\n",
              "\n",
              "    .dataframe thead th {\n",
              "        text-align: right;\n",
              "    }\n",
              "</style>\n",
              "<table border=\"1\" class=\"dataframe\">\n",
              "  <thead>\n",
              "    <tr style=\"text-align: right;\">\n",
              "      <th></th>\n",
              "      <th>year</th>\n",
              "      <th>sex</th>\n",
              "      <th>name</th>\n",
              "      <th>n</th>\n",
              "      <th>prop</th>\n",
              "    </tr>\n",
              "  </thead>\n",
              "  <tbody>\n",
              "    <tr>\n",
              "      <th>1304190</th>\n",
              "      <td>1999</td>\n",
              "      <td>F</td>\n",
              "      <td>Emily</td>\n",
              "      <td>26539</td>\n",
              "      <td>0.013636</td>\n",
              "    </tr>\n",
              "    <tr>\n",
              "      <th>1304191</th>\n",
              "      <td>1999</td>\n",
              "      <td>F</td>\n",
              "      <td>Hannah</td>\n",
              "      <td>21673</td>\n",
              "      <td>0.011136</td>\n",
              "    </tr>\n",
              "    <tr>\n",
              "      <th>1304192</th>\n",
              "      <td>1999</td>\n",
              "      <td>F</td>\n",
              "      <td>Alexis</td>\n",
              "      <td>19234</td>\n",
              "      <td>0.009883</td>\n",
              "    </tr>\n",
              "    <tr>\n",
              "      <th>1304193</th>\n",
              "      <td>1999</td>\n",
              "      <td>F</td>\n",
              "      <td>Sarah</td>\n",
              "      <td>19102</td>\n",
              "      <td>0.009815</td>\n",
              "    </tr>\n",
              "    <tr>\n",
              "      <th>1304194</th>\n",
              "      <td>1999</td>\n",
              "      <td>F</td>\n",
              "      <td>Samantha</td>\n",
              "      <td>19036</td>\n",
              "      <td>0.009781</td>\n",
              "    </tr>\n",
              "    <tr>\n",
              "      <th>...</th>\n",
              "      <td>...</td>\n",
              "      <td>...</td>\n",
              "      <td>...</td>\n",
              "      <td>...</td>\n",
              "      <td>...</td>\n",
              "    </tr>\n",
              "    <tr>\n",
              "      <th>1362504</th>\n",
              "      <td>2000</td>\n",
              "      <td>M</td>\n",
              "      <td>Zeph</td>\n",
              "      <td>5</td>\n",
              "      <td>0.000002</td>\n",
              "    </tr>\n",
              "    <tr>\n",
              "      <th>1362505</th>\n",
              "      <td>2000</td>\n",
              "      <td>M</td>\n",
              "      <td>Zeven</td>\n",
              "      <td>5</td>\n",
              "      <td>0.000002</td>\n",
              "    </tr>\n",
              "    <tr>\n",
              "      <th>1362506</th>\n",
              "      <td>2000</td>\n",
              "      <td>M</td>\n",
              "      <td>Ziggy</td>\n",
              "      <td>5</td>\n",
              "      <td>0.000002</td>\n",
              "    </tr>\n",
              "    <tr>\n",
              "      <th>1362507</th>\n",
              "      <td>2000</td>\n",
              "      <td>M</td>\n",
              "      <td>Zo</td>\n",
              "      <td>5</td>\n",
              "      <td>0.000002</td>\n",
              "    </tr>\n",
              "    <tr>\n",
              "      <th>1362508</th>\n",
              "      <td>2000</td>\n",
              "      <td>M</td>\n",
              "      <td>Zyier</td>\n",
              "      <td>5</td>\n",
              "      <td>0.000002</td>\n",
              "    </tr>\n",
              "  </tbody>\n",
              "</table>\n",
              "<p>58319 rows × 5 columns</p>\n",
              "</div>"
            ],
            "text/plain": [
              "         year sex      name      n      prop\n",
              "1304190  1999   F     Emily  26539  0.013636\n",
              "1304191  1999   F    Hannah  21673  0.011136\n",
              "1304192  1999   F    Alexis  19234  0.009883\n",
              "1304193  1999   F     Sarah  19102  0.009815\n",
              "1304194  1999   F  Samantha  19036  0.009781\n",
              "...       ...  ..       ...    ...       ...\n",
              "1362504  2000   M      Zeph      5  0.000002\n",
              "1362505  2000   M     Zeven      5  0.000002\n",
              "1362506  2000   M     Ziggy      5  0.000002\n",
              "1362507  2000   M        Zo      5  0.000002\n",
              "1362508  2000   M     Zyier      5  0.000002\n",
              "\n",
              "[58319 rows x 5 columns]"
            ]
          },
          "metadata": {
            "tags": []
          },
          "execution_count": 13
        }
      ]
    },
    {
      "cell_type": "code",
      "metadata": {
        "id": "R9dXPtJC9hRM",
        "colab": {
          "base_uri": "https://localhost:8080/",
          "height": 47
        },
        "outputId": "21054aea-d59e-4110-ab5f-2b3817ceb3c3"
      },
      "source": [
        "df[df['year'].isnull()]"
      ],
      "execution_count": null,
      "outputs": [
        {
          "output_type": "execute_result",
          "data": {
            "text/html": [
              "<div>\n",
              "<style scoped>\n",
              "    .dataframe tbody tr th:only-of-type {\n",
              "        vertical-align: middle;\n",
              "    }\n",
              "\n",
              "    .dataframe tbody tr th {\n",
              "        vertical-align: top;\n",
              "    }\n",
              "\n",
              "    .dataframe thead th {\n",
              "        text-align: right;\n",
              "    }\n",
              "</style>\n",
              "<table border=\"1\" class=\"dataframe\">\n",
              "  <thead>\n",
              "    <tr style=\"text-align: right;\">\n",
              "      <th></th>\n",
              "      <th>year</th>\n",
              "      <th>sex</th>\n",
              "      <th>name</th>\n",
              "      <th>n</th>\n",
              "      <th>prop</th>\n",
              "    </tr>\n",
              "  </thead>\n",
              "  <tbody>\n",
              "  </tbody>\n",
              "</table>\n",
              "</div>"
            ],
            "text/plain": [
              "Empty DataFrame\n",
              "Columns: [year, sex, name, n, prop]\n",
              "Index: []"
            ]
          },
          "metadata": {
            "tags": []
          },
          "execution_count": 15
        }
      ]
    },
    {
      "cell_type": "code",
      "metadata": {
        "id": "vRfmCTy_9sgo",
        "colab": {
          "base_uri": "https://localhost:8080/",
          "height": 135
        },
        "outputId": "78b92a88-c7b0-45e5-812c-bec6c417f56e"
      },
      "source": [
        "df[df['prop']>=0.08]"
      ],
      "execution_count": null,
      "outputs": [
        {
          "output_type": "execute_result",
          "data": {
            "text/html": [
              "<div>\n",
              "<style scoped>\n",
              "    .dataframe tbody tr th:only-of-type {\n",
              "        vertical-align: middle;\n",
              "    }\n",
              "\n",
              "    .dataframe tbody tr th {\n",
              "        vertical-align: top;\n",
              "    }\n",
              "\n",
              "    .dataframe thead th {\n",
              "        text-align: right;\n",
              "    }\n",
              "</style>\n",
              "<table border=\"1\" class=\"dataframe\">\n",
              "  <thead>\n",
              "    <tr style=\"text-align: right;\">\n",
              "      <th></th>\n",
              "      <th>year</th>\n",
              "      <th>sex</th>\n",
              "      <th>name</th>\n",
              "      <th>n</th>\n",
              "      <th>prop</th>\n",
              "    </tr>\n",
              "  </thead>\n",
              "  <tbody>\n",
              "    <tr>\n",
              "      <th>942</th>\n",
              "      <td>1880</td>\n",
              "      <td>M</td>\n",
              "      <td>John</td>\n",
              "      <td>9655</td>\n",
              "      <td>0.081546</td>\n",
              "    </tr>\n",
              "    <tr>\n",
              "      <th>943</th>\n",
              "      <td>1880</td>\n",
              "      <td>M</td>\n",
              "      <td>William</td>\n",
              "      <td>9532</td>\n",
              "      <td>0.080507</td>\n",
              "    </tr>\n",
              "    <tr>\n",
              "      <th>2938</th>\n",
              "      <td>1881</td>\n",
              "      <td>M</td>\n",
              "      <td>John</td>\n",
              "      <td>8769</td>\n",
              "      <td>0.080983</td>\n",
              "    </tr>\n",
              "  </tbody>\n",
              "</table>\n",
              "</div>"
            ],
            "text/plain": [
              "      year sex     name     n      prop\n",
              "942   1880   M     John  9655  0.081546\n",
              "943   1880   M  William  9532  0.080507\n",
              "2938  1881   M     John  8769  0.080983"
            ]
          },
          "metadata": {
            "tags": []
          },
          "execution_count": 16
        }
      ]
    },
    {
      "cell_type": "code",
      "metadata": {
        "id": "p8Hp07j793m4",
        "colab": {
          "base_uri": "https://localhost:8080/",
          "height": 164
        },
        "outputId": "61ab92f2-7e45-4c71-9842-839d11b07f28"
      },
      "source": [
        "df[df['name']=='Sea']"
      ],
      "execution_count": null,
      "outputs": [
        {
          "output_type": "execute_result",
          "data": {
            "text/html": [
              "<div>\n",
              "<style scoped>\n",
              "    .dataframe tbody tr th:only-of-type {\n",
              "        vertical-align: middle;\n",
              "    }\n",
              "\n",
              "    .dataframe tbody tr th {\n",
              "        vertical-align: top;\n",
              "    }\n",
              "\n",
              "    .dataframe thead th {\n",
              "        text-align: right;\n",
              "    }\n",
              "</style>\n",
              "<table border=\"1\" class=\"dataframe\">\n",
              "  <thead>\n",
              "    <tr style=\"text-align: right;\">\n",
              "      <th></th>\n",
              "      <th>year</th>\n",
              "      <th>sex</th>\n",
              "      <th>name</th>\n",
              "      <th>n</th>\n",
              "      <th>prop</th>\n",
              "    </tr>\n",
              "  </thead>\n",
              "  <tbody>\n",
              "    <tr>\n",
              "      <th>914633</th>\n",
              "      <td>1982</td>\n",
              "      <td>F</td>\n",
              "      <td>Sea</td>\n",
              "      <td>5</td>\n",
              "      <td>0.000003</td>\n",
              "    </tr>\n",
              "    <tr>\n",
              "      <th>980223</th>\n",
              "      <td>1985</td>\n",
              "      <td>M</td>\n",
              "      <td>Sea</td>\n",
              "      <td>6</td>\n",
              "      <td>0.000003</td>\n",
              "    </tr>\n",
              "    <tr>\n",
              "      <th>1001864</th>\n",
              "      <td>1986</td>\n",
              "      <td>M</td>\n",
              "      <td>Sea</td>\n",
              "      <td>5</td>\n",
              "      <td>0.000003</td>\n",
              "    </tr>\n",
              "    <tr>\n",
              "      <th>1292397</th>\n",
              "      <td>1998</td>\n",
              "      <td>F</td>\n",
              "      <td>Sea</td>\n",
              "      <td>5</td>\n",
              "      <td>0.000003</td>\n",
              "    </tr>\n",
              "  </tbody>\n",
              "</table>\n",
              "</div>"
            ],
            "text/plain": [
              "         year sex name  n      prop\n",
              "914633   1982   F  Sea  5  0.000003\n",
              "980223   1985   M  Sea  6  0.000003\n",
              "1001864  1986   M  Sea  5  0.000003\n",
              "1292397  1998   F  Sea  5  0.000003"
            ]
          },
          "metadata": {
            "tags": []
          },
          "execution_count": 17
        }
      ]
    },
    {
      "cell_type": "code",
      "metadata": {
        "id": "Hkp3QEvY99VC",
        "colab": {
          "base_uri": "https://localhost:8080/",
          "height": 47
        },
        "outputId": "c4da8b51-8598-4b47-8814-340c4d8ff001"
      },
      "source": [
        "df[df['name'].isnull()]"
      ],
      "execution_count": null,
      "outputs": [
        {
          "output_type": "execute_result",
          "data": {
            "text/html": [
              "<div>\n",
              "<style scoped>\n",
              "    .dataframe tbody tr th:only-of-type {\n",
              "        vertical-align: middle;\n",
              "    }\n",
              "\n",
              "    .dataframe tbody tr th {\n",
              "        vertical-align: top;\n",
              "    }\n",
              "\n",
              "    .dataframe thead th {\n",
              "        text-align: right;\n",
              "    }\n",
              "</style>\n",
              "<table border=\"1\" class=\"dataframe\">\n",
              "  <thead>\n",
              "    <tr style=\"text-align: right;\">\n",
              "      <th></th>\n",
              "      <th>year</th>\n",
              "      <th>sex</th>\n",
              "      <th>name</th>\n",
              "      <th>n</th>\n",
              "      <th>prop</th>\n",
              "    </tr>\n",
              "  </thead>\n",
              "  <tbody>\n",
              "  </tbody>\n",
              "</table>\n",
              "</div>"
            ],
            "text/plain": [
              "Empty DataFrame\n",
              "Columns: [year, sex, name, n, prop]\n",
              "Index: []"
            ]
          },
          "metadata": {
            "tags": []
          },
          "execution_count": 18
        }
      ]
    },
    {
      "cell_type": "code",
      "metadata": {
        "id": "mlnMTLxy-U2C",
        "colab": {
          "base_uri": "https://localhost:8080/",
          "height": 162
        },
        "outputId": "0572b477-f325-469e-bd43-8c278c217daf"
      },
      "source": [
        "df[iloc[0]]"
      ],
      "execution_count": null,
      "outputs": [
        {
          "output_type": "error",
          "ename": "NameError",
          "evalue": "ignored",
          "traceback": [
            "\u001b[0;31m---------------------------------------------------------------------------\u001b[0m",
            "\u001b[0;31mNameError\u001b[0m                                 Traceback (most recent call last)",
            "\u001b[0;32m<ipython-input-19-8608dbb76f62>\u001b[0m in \u001b[0;36m<module>\u001b[0;34m()\u001b[0m\n\u001b[0;32m----> 1\u001b[0;31m \u001b[0mdf\u001b[0m\u001b[0;34m[\u001b[0m\u001b[0miloc\u001b[0m\u001b[0;34m[\u001b[0m\u001b[0;36m0\u001b[0m\u001b[0;34m]\u001b[0m\u001b[0;34m]\u001b[0m\u001b[0;34m\u001b[0m\u001b[0;34m\u001b[0m\u001b[0m\n\u001b[0m",
            "\u001b[0;31mNameError\u001b[0m: name 'iloc' is not defined"
          ]
        }
      ]
    },
    {
      "cell_type": "code",
      "metadata": {
        "id": "q7lmwxuU_JGO",
        "colab": {
          "base_uri": "https://localhost:8080/"
        },
        "outputId": "c408f3bf-f6ad-4a80-ea13-39bcac4b976c"
      },
      "source": [
        "df.iloc[:,1]"
      ],
      "execution_count": null,
      "outputs": [
        {
          "output_type": "execute_result",
          "data": {
            "text/plain": [
              "0          F\n",
              "1          F\n",
              "2          F\n",
              "3          F\n",
              "4          F\n",
              "          ..\n",
              "1924660    M\n",
              "1924661    M\n",
              "1924662    M\n",
              "1924663    M\n",
              "1924664    M\n",
              "Name: sex, Length: 1924665, dtype: object"
            ]
          },
          "metadata": {
            "tags": []
          },
          "execution_count": 20
        }
      ]
    },
    {
      "cell_type": "code",
      "metadata": {
        "id": "UDIKMn6y_Ojj",
        "colab": {
          "base_uri": "https://localhost:8080/",
          "height": 105
        },
        "outputId": "1e240402-b6cb-426d-8c79-0e33acaa1f21"
      },
      "source": [
        "df[(df['name']=='Sea')&(df['sex']=='F')]"
      ],
      "execution_count": null,
      "outputs": [
        {
          "output_type": "execute_result",
          "data": {
            "text/html": [
              "<div>\n",
              "<style scoped>\n",
              "    .dataframe tbody tr th:only-of-type {\n",
              "        vertical-align: middle;\n",
              "    }\n",
              "\n",
              "    .dataframe tbody tr th {\n",
              "        vertical-align: top;\n",
              "    }\n",
              "\n",
              "    .dataframe thead th {\n",
              "        text-align: right;\n",
              "    }\n",
              "</style>\n",
              "<table border=\"1\" class=\"dataframe\">\n",
              "  <thead>\n",
              "    <tr style=\"text-align: right;\">\n",
              "      <th></th>\n",
              "      <th>year</th>\n",
              "      <th>sex</th>\n",
              "      <th>name</th>\n",
              "      <th>n</th>\n",
              "      <th>prop</th>\n",
              "    </tr>\n",
              "  </thead>\n",
              "  <tbody>\n",
              "    <tr>\n",
              "      <th>914633</th>\n",
              "      <td>1982</td>\n",
              "      <td>F</td>\n",
              "      <td>Sea</td>\n",
              "      <td>5</td>\n",
              "      <td>0.000003</td>\n",
              "    </tr>\n",
              "    <tr>\n",
              "      <th>1292397</th>\n",
              "      <td>1998</td>\n",
              "      <td>F</td>\n",
              "      <td>Sea</td>\n",
              "      <td>5</td>\n",
              "      <td>0.000003</td>\n",
              "    </tr>\n",
              "  </tbody>\n",
              "</table>\n",
              "</div>"
            ],
            "text/plain": [
              "         year sex name  n      prop\n",
              "914633   1982   F  Sea  5  0.000003\n",
              "1292397  1998   F  Sea  5  0.000003"
            ]
          },
          "metadata": {
            "tags": []
          },
          "execution_count": 22
        }
      ]
    },
    {
      "cell_type": "code",
      "metadata": {
        "id": "Xhv1DhHPAikP",
        "colab": {
          "base_uri": "https://localhost:8080/",
          "height": 105
        },
        "outputId": "97c8d231-11f9-4815-fb66-469bcb39f941"
      },
      "source": [
        "df[(df['name'] == 'Sea') & (df['sex'] == 'F')]\n"
      ],
      "execution_count": null,
      "outputs": [
        {
          "output_type": "execute_result",
          "data": {
            "text/html": [
              "<div>\n",
              "<style scoped>\n",
              "    .dataframe tbody tr th:only-of-type {\n",
              "        vertical-align: middle;\n",
              "    }\n",
              "\n",
              "    .dataframe tbody tr th {\n",
              "        vertical-align: top;\n",
              "    }\n",
              "\n",
              "    .dataframe thead th {\n",
              "        text-align: right;\n",
              "    }\n",
              "</style>\n",
              "<table border=\"1\" class=\"dataframe\">\n",
              "  <thead>\n",
              "    <tr style=\"text-align: right;\">\n",
              "      <th></th>\n",
              "      <th>year</th>\n",
              "      <th>sex</th>\n",
              "      <th>name</th>\n",
              "      <th>n</th>\n",
              "      <th>prop</th>\n",
              "    </tr>\n",
              "  </thead>\n",
              "  <tbody>\n",
              "    <tr>\n",
              "      <th>914633</th>\n",
              "      <td>1982</td>\n",
              "      <td>F</td>\n",
              "      <td>Sea</td>\n",
              "      <td>5</td>\n",
              "      <td>0.000003</td>\n",
              "    </tr>\n",
              "    <tr>\n",
              "      <th>1292397</th>\n",
              "      <td>1998</td>\n",
              "      <td>F</td>\n",
              "      <td>Sea</td>\n",
              "      <td>5</td>\n",
              "      <td>0.000003</td>\n",
              "    </tr>\n",
              "  </tbody>\n",
              "</table>\n",
              "</div>"
            ],
            "text/plain": [
              "         year sex name  n      prop\n",
              "914633   1982   F  Sea  5  0.000003\n",
              "1292397  1998   F  Sea  5  0.000003"
            ]
          },
          "metadata": {
            "tags": []
          },
          "execution_count": 23
        }
      ]
    },
    {
      "cell_type": "code",
      "metadata": {
        "id": "WU2YMHOjBXo7",
        "colab": {
          "base_uri": "https://localhost:8080/",
          "height": 1000
        },
        "outputId": "02cd5d8a-7cbc-4f22-fcad-1d2f578ca745"
      },
      "source": [
        "df[ (df['name']=='Acura') | (df['name'] =='Lexus') | (df['name'] =='Yugo')]\n"
      ],
      "execution_count": null,
      "outputs": [
        {
          "output_type": "execute_result",
          "data": {
            "text/html": [
              "<div>\n",
              "<style scoped>\n",
              "    .dataframe tbody tr th:only-of-type {\n",
              "        vertical-align: middle;\n",
              "    }\n",
              "\n",
              "    .dataframe tbody tr th {\n",
              "        vertical-align: top;\n",
              "    }\n",
              "\n",
              "    .dataframe thead th {\n",
              "        text-align: right;\n",
              "    }\n",
              "</style>\n",
              "<table border=\"1\" class=\"dataframe\">\n",
              "  <thead>\n",
              "    <tr style=\"text-align: right;\">\n",
              "      <th></th>\n",
              "      <th>year</th>\n",
              "      <th>sex</th>\n",
              "      <th>name</th>\n",
              "      <th>n</th>\n",
              "      <th>prop</th>\n",
              "    </tr>\n",
              "  </thead>\n",
              "  <tbody>\n",
              "    <tr>\n",
              "      <th>1072723</th>\n",
              "      <td>1990</td>\n",
              "      <td>F</td>\n",
              "      <td>Lexus</td>\n",
              "      <td>36</td>\n",
              "      <td>0.000018</td>\n",
              "    </tr>\n",
              "    <tr>\n",
              "      <th>1089402</th>\n",
              "      <td>1990</td>\n",
              "      <td>M</td>\n",
              "      <td>Lexus</td>\n",
              "      <td>12</td>\n",
              "      <td>0.000006</td>\n",
              "    </tr>\n",
              "    <tr>\n",
              "      <th>1095850</th>\n",
              "      <td>1991</td>\n",
              "      <td>F</td>\n",
              "      <td>Lexus</td>\n",
              "      <td>102</td>\n",
              "      <td>0.000050</td>\n",
              "    </tr>\n",
              "    <tr>\n",
              "      <th>1113536</th>\n",
              "      <td>1991</td>\n",
              "      <td>M</td>\n",
              "      <td>Lexus</td>\n",
              "      <td>16</td>\n",
              "      <td>0.000008</td>\n",
              "    </tr>\n",
              "    <tr>\n",
              "      <th>1120417</th>\n",
              "      <td>1992</td>\n",
              "      <td>F</td>\n",
              "      <td>Lexus</td>\n",
              "      <td>193</td>\n",
              "      <td>0.000096</td>\n",
              "    </tr>\n",
              "    <tr>\n",
              "      <th>1137827</th>\n",
              "      <td>1992</td>\n",
              "      <td>M</td>\n",
              "      <td>Lexus</td>\n",
              "      <td>25</td>\n",
              "      <td>0.000012</td>\n",
              "    </tr>\n",
              "    <tr>\n",
              "      <th>1145592</th>\n",
              "      <td>1993</td>\n",
              "      <td>F</td>\n",
              "      <td>Lexus</td>\n",
              "      <td>285</td>\n",
              "      <td>0.000145</td>\n",
              "    </tr>\n",
              "    <tr>\n",
              "      <th>1163140</th>\n",
              "      <td>1993</td>\n",
              "      <td>M</td>\n",
              "      <td>Lexus</td>\n",
              "      <td>30</td>\n",
              "      <td>0.000015</td>\n",
              "    </tr>\n",
              "    <tr>\n",
              "      <th>1171413</th>\n",
              "      <td>1994</td>\n",
              "      <td>F</td>\n",
              "      <td>Lexus</td>\n",
              "      <td>381</td>\n",
              "      <td>0.000195</td>\n",
              "    </tr>\n",
              "    <tr>\n",
              "      <th>1182602</th>\n",
              "      <td>1994</td>\n",
              "      <td>F</td>\n",
              "      <td>Acura</td>\n",
              "      <td>6</td>\n",
              "      <td>0.000003</td>\n",
              "    </tr>\n",
              "    <tr>\n",
              "      <th>1190265</th>\n",
              "      <td>1994</td>\n",
              "      <td>M</td>\n",
              "      <td>Lexus</td>\n",
              "      <td>18</td>\n",
              "      <td>0.000009</td>\n",
              "    </tr>\n",
              "    <tr>\n",
              "      <th>1197348</th>\n",
              "      <td>1995</td>\n",
              "      <td>F</td>\n",
              "      <td>Lexus</td>\n",
              "      <td>450</td>\n",
              "      <td>0.000234</td>\n",
              "    </tr>\n",
              "    <tr>\n",
              "      <th>1206377</th>\n",
              "      <td>1995</td>\n",
              "      <td>F</td>\n",
              "      <td>Acura</td>\n",
              "      <td>8</td>\n",
              "      <td>0.000004</td>\n",
              "    </tr>\n",
              "    <tr>\n",
              "      <th>1217559</th>\n",
              "      <td>1995</td>\n",
              "      <td>M</td>\n",
              "      <td>Lexus</td>\n",
              "      <td>12</td>\n",
              "      <td>0.000006</td>\n",
              "    </tr>\n",
              "    <tr>\n",
              "      <th>1223345</th>\n",
              "      <td>1996</td>\n",
              "      <td>F</td>\n",
              "      <td>Lexus</td>\n",
              "      <td>557</td>\n",
              "      <td>0.000291</td>\n",
              "    </tr>\n",
              "    <tr>\n",
              "      <th>1241773</th>\n",
              "      <td>1996</td>\n",
              "      <td>M</td>\n",
              "      <td>Lexus</td>\n",
              "      <td>25</td>\n",
              "      <td>0.000012</td>\n",
              "    </tr>\n",
              "    <tr>\n",
              "      <th>1249789</th>\n",
              "      <td>1997</td>\n",
              "      <td>F</td>\n",
              "      <td>Lexus</td>\n",
              "      <td>534</td>\n",
              "      <td>0.000280</td>\n",
              "    </tr>\n",
              "    <tr>\n",
              "      <th>1263058</th>\n",
              "      <td>1997</td>\n",
              "      <td>F</td>\n",
              "      <td>Acura</td>\n",
              "      <td>5</td>\n",
              "      <td>0.000003</td>\n",
              "    </tr>\n",
              "    <tr>\n",
              "      <th>1270072</th>\n",
              "      <td>1997</td>\n",
              "      <td>M</td>\n",
              "      <td>Lexus</td>\n",
              "      <td>14</td>\n",
              "      <td>0.000007</td>\n",
              "    </tr>\n",
              "    <tr>\n",
              "      <th>1276808</th>\n",
              "      <td>1998</td>\n",
              "      <td>F</td>\n",
              "      <td>Lexus</td>\n",
              "      <td>489</td>\n",
              "      <td>0.000252</td>\n",
              "    </tr>\n",
              "    <tr>\n",
              "      <th>1296142</th>\n",
              "      <td>1998</td>\n",
              "      <td>M</td>\n",
              "      <td>Lexus</td>\n",
              "      <td>24</td>\n",
              "      <td>0.000012</td>\n",
              "    </tr>\n",
              "    <tr>\n",
              "      <th>1304814</th>\n",
              "      <td>1999</td>\n",
              "      <td>F</td>\n",
              "      <td>Lexus</td>\n",
              "      <td>381</td>\n",
              "      <td>0.000196</td>\n",
              "    </tr>\n",
              "    <tr>\n",
              "      <th>1315577</th>\n",
              "      <td>1999</td>\n",
              "      <td>F</td>\n",
              "      <td>Acura</td>\n",
              "      <td>7</td>\n",
              "      <td>0.000004</td>\n",
              "    </tr>\n",
              "    <tr>\n",
              "      <th>1328006</th>\n",
              "      <td>1999</td>\n",
              "      <td>M</td>\n",
              "      <td>Lexus</td>\n",
              "      <td>9</td>\n",
              "      <td>0.000004</td>\n",
              "    </tr>\n",
              "    <tr>\n",
              "      <th>1333410</th>\n",
              "      <td>2000</td>\n",
              "      <td>F</td>\n",
              "      <td>Lexus</td>\n",
              "      <td>360</td>\n",
              "      <td>0.000180</td>\n",
              "    </tr>\n",
              "    <tr>\n",
              "      <th>1357568</th>\n",
              "      <td>2000</td>\n",
              "      <td>M</td>\n",
              "      <td>Lexus</td>\n",
              "      <td>9</td>\n",
              "      <td>0.000004</td>\n",
              "    </tr>\n",
              "    <tr>\n",
              "      <th>1363279</th>\n",
              "      <td>2001</td>\n",
              "      <td>F</td>\n",
              "      <td>Lexus</td>\n",
              "      <td>308</td>\n",
              "      <td>0.000156</td>\n",
              "    </tr>\n",
              "    <tr>\n",
              "      <th>1390516</th>\n",
              "      <td>2001</td>\n",
              "      <td>M</td>\n",
              "      <td>Lexus</td>\n",
              "      <td>6</td>\n",
              "      <td>0.000003</td>\n",
              "    </tr>\n",
              "    <tr>\n",
              "      <th>1393547</th>\n",
              "      <td>2002</td>\n",
              "      <td>F</td>\n",
              "      <td>Lexus</td>\n",
              "      <td>313</td>\n",
              "      <td>0.000159</td>\n",
              "    </tr>\n",
              "    <tr>\n",
              "      <th>1418995</th>\n",
              "      <td>2002</td>\n",
              "      <td>M</td>\n",
              "      <td>Lexus</td>\n",
              "      <td>8</td>\n",
              "      <td>0.000004</td>\n",
              "    </tr>\n",
              "    <tr>\n",
              "      <th>1421494</th>\n",
              "      <td>2002</td>\n",
              "      <td>M</td>\n",
              "      <td>Yugo</td>\n",
              "      <td>6</td>\n",
              "      <td>0.000003</td>\n",
              "    </tr>\n",
              "    <tr>\n",
              "      <th>1424223</th>\n",
              "      <td>2003</td>\n",
              "      <td>F</td>\n",
              "      <td>Lexus</td>\n",
              "      <td>274</td>\n",
              "      <td>0.000137</td>\n",
              "    </tr>\n",
              "    <tr>\n",
              "      <th>1447520</th>\n",
              "      <td>2003</td>\n",
              "      <td>M</td>\n",
              "      <td>Lexus</td>\n",
              "      <td>13</td>\n",
              "      <td>0.000006</td>\n",
              "    </tr>\n",
              "    <tr>\n",
              "      <th>1455495</th>\n",
              "      <td>2004</td>\n",
              "      <td>F</td>\n",
              "      <td>Lexus</td>\n",
              "      <td>246</td>\n",
              "      <td>0.000122</td>\n",
              "    </tr>\n",
              "    <tr>\n",
              "      <th>1480152</th>\n",
              "      <td>2004</td>\n",
              "      <td>M</td>\n",
              "      <td>Lexus</td>\n",
              "      <td>11</td>\n",
              "      <td>0.000005</td>\n",
              "    </tr>\n",
              "    <tr>\n",
              "      <th>1487700</th>\n",
              "      <td>2005</td>\n",
              "      <td>F</td>\n",
              "      <td>Lexus</td>\n",
              "      <td>208</td>\n",
              "      <td>0.000103</td>\n",
              "    </tr>\n",
              "    <tr>\n",
              "      <th>1512663</th>\n",
              "      <td>2005</td>\n",
              "      <td>M</td>\n",
              "      <td>Lexus</td>\n",
              "      <td>11</td>\n",
              "      <td>0.000005</td>\n",
              "    </tr>\n",
              "    <tr>\n",
              "      <th>1517189</th>\n",
              "      <td>2005</td>\n",
              "      <td>M</td>\n",
              "      <td>Yugo</td>\n",
              "      <td>6</td>\n",
              "      <td>0.000003</td>\n",
              "    </tr>\n",
              "    <tr>\n",
              "      <th>1520284</th>\n",
              "      <td>2006</td>\n",
              "      <td>F</td>\n",
              "      <td>Lexus</td>\n",
              "      <td>208</td>\n",
              "      <td>0.000100</td>\n",
              "    </tr>\n",
              "    <tr>\n",
              "      <th>1548398</th>\n",
              "      <td>2006</td>\n",
              "      <td>M</td>\n",
              "      <td>Lexus</td>\n",
              "      <td>8</td>\n",
              "      <td>0.000004</td>\n",
              "    </tr>\n",
              "    <tr>\n",
              "      <th>1551182</th>\n",
              "      <td>2006</td>\n",
              "      <td>M</td>\n",
              "      <td>Yugo</td>\n",
              "      <td>6</td>\n",
              "      <td>0.000003</td>\n",
              "    </tr>\n",
              "    <tr>\n",
              "      <th>1554593</th>\n",
              "      <td>2007</td>\n",
              "      <td>F</td>\n",
              "      <td>Lexus</td>\n",
              "      <td>171</td>\n",
              "      <td>0.000081</td>\n",
              "    </tr>\n",
              "    <tr>\n",
              "      <th>1589682</th>\n",
              "      <td>2008</td>\n",
              "      <td>F</td>\n",
              "      <td>Lexus</td>\n",
              "      <td>151</td>\n",
              "      <td>0.000073</td>\n",
              "    </tr>\n",
              "    <tr>\n",
              "      <th>1620575</th>\n",
              "      <td>2008</td>\n",
              "      <td>M</td>\n",
              "      <td>Lexus</td>\n",
              "      <td>6</td>\n",
              "      <td>0.000003</td>\n",
              "    </tr>\n",
              "    <tr>\n",
              "      <th>1624907</th>\n",
              "      <td>2009</td>\n",
              "      <td>F</td>\n",
              "      <td>Lexus</td>\n",
              "      <td>132</td>\n",
              "      <td>0.000065</td>\n",
              "    </tr>\n",
              "    <tr>\n",
              "      <th>1654343</th>\n",
              "      <td>2009</td>\n",
              "      <td>M</td>\n",
              "      <td>Yugo</td>\n",
              "      <td>7</td>\n",
              "      <td>0.000003</td>\n",
              "    </tr>\n",
              "    <tr>\n",
              "      <th>1659823</th>\n",
              "      <td>2010</td>\n",
              "      <td>F</td>\n",
              "      <td>Lexus</td>\n",
              "      <td>106</td>\n",
              "      <td>0.000054</td>\n",
              "    </tr>\n",
              "    <tr>\n",
              "      <th>1691926</th>\n",
              "      <td>2010</td>\n",
              "      <td>M</td>\n",
              "      <td>Yugo</td>\n",
              "      <td>5</td>\n",
              "      <td>0.000002</td>\n",
              "    </tr>\n",
              "    <tr>\n",
              "      <th>1693782</th>\n",
              "      <td>2011</td>\n",
              "      <td>F</td>\n",
              "      <td>Lexus</td>\n",
              "      <td>113</td>\n",
              "      <td>0.000058</td>\n",
              "    </tr>\n",
              "    <tr>\n",
              "      <th>1728254</th>\n",
              "      <td>2012</td>\n",
              "      <td>F</td>\n",
              "      <td>Lexus</td>\n",
              "      <td>79</td>\n",
              "      <td>0.000041</td>\n",
              "    </tr>\n",
              "    <tr>\n",
              "      <th>1761749</th>\n",
              "      <td>2013</td>\n",
              "      <td>F</td>\n",
              "      <td>Lexus</td>\n",
              "      <td>89</td>\n",
              "      <td>0.000046</td>\n",
              "    </tr>\n",
              "    <tr>\n",
              "      <th>1790428</th>\n",
              "      <td>2013</td>\n",
              "      <td>M</td>\n",
              "      <td>Lexus</td>\n",
              "      <td>6</td>\n",
              "      <td>0.000003</td>\n",
              "    </tr>\n",
              "    <tr>\n",
              "      <th>1795370</th>\n",
              "      <td>2014</td>\n",
              "      <td>F</td>\n",
              "      <td>Lexus</td>\n",
              "      <td>73</td>\n",
              "      <td>0.000037</td>\n",
              "    </tr>\n",
              "    <tr>\n",
              "      <th>1826048</th>\n",
              "      <td>2014</td>\n",
              "      <td>M</td>\n",
              "      <td>Yugo</td>\n",
              "      <td>5</td>\n",
              "      <td>0.000002</td>\n",
              "    </tr>\n",
              "    <tr>\n",
              "      <th>1828682</th>\n",
              "      <td>2015</td>\n",
              "      <td>F</td>\n",
              "      <td>Lexus</td>\n",
              "      <td>70</td>\n",
              "      <td>0.000036</td>\n",
              "    </tr>\n",
              "    <tr>\n",
              "      <th>1863167</th>\n",
              "      <td>2016</td>\n",
              "      <td>F</td>\n",
              "      <td>Lexus</td>\n",
              "      <td>38</td>\n",
              "      <td>0.000020</td>\n",
              "    </tr>\n",
              "    <tr>\n",
              "      <th>1896357</th>\n",
              "      <td>2017</td>\n",
              "      <td>F</td>\n",
              "      <td>Lexus</td>\n",
              "      <td>35</td>\n",
              "      <td>0.000019</td>\n",
              "    </tr>\n",
              "  </tbody>\n",
              "</table>\n",
              "</div>"
            ],
            "text/plain": [
              "         year sex   name    n      prop\n",
              "1072723  1990   F  Lexus   36  0.000018\n",
              "1089402  1990   M  Lexus   12  0.000006\n",
              "1095850  1991   F  Lexus  102  0.000050\n",
              "1113536  1991   M  Lexus   16  0.000008\n",
              "1120417  1992   F  Lexus  193  0.000096\n",
              "1137827  1992   M  Lexus   25  0.000012\n",
              "1145592  1993   F  Lexus  285  0.000145\n",
              "1163140  1993   M  Lexus   30  0.000015\n",
              "1171413  1994   F  Lexus  381  0.000195\n",
              "1182602  1994   F  Acura    6  0.000003\n",
              "1190265  1994   M  Lexus   18  0.000009\n",
              "1197348  1995   F  Lexus  450  0.000234\n",
              "1206377  1995   F  Acura    8  0.000004\n",
              "1217559  1995   M  Lexus   12  0.000006\n",
              "1223345  1996   F  Lexus  557  0.000291\n",
              "1241773  1996   M  Lexus   25  0.000012\n",
              "1249789  1997   F  Lexus  534  0.000280\n",
              "1263058  1997   F  Acura    5  0.000003\n",
              "1270072  1997   M  Lexus   14  0.000007\n",
              "1276808  1998   F  Lexus  489  0.000252\n",
              "1296142  1998   M  Lexus   24  0.000012\n",
              "1304814  1999   F  Lexus  381  0.000196\n",
              "1315577  1999   F  Acura    7  0.000004\n",
              "1328006  1999   M  Lexus    9  0.000004\n",
              "1333410  2000   F  Lexus  360  0.000180\n",
              "1357568  2000   M  Lexus    9  0.000004\n",
              "1363279  2001   F  Lexus  308  0.000156\n",
              "1390516  2001   M  Lexus    6  0.000003\n",
              "1393547  2002   F  Lexus  313  0.000159\n",
              "1418995  2002   M  Lexus    8  0.000004\n",
              "1421494  2002   M   Yugo    6  0.000003\n",
              "1424223  2003   F  Lexus  274  0.000137\n",
              "1447520  2003   M  Lexus   13  0.000006\n",
              "1455495  2004   F  Lexus  246  0.000122\n",
              "1480152  2004   M  Lexus   11  0.000005\n",
              "1487700  2005   F  Lexus  208  0.000103\n",
              "1512663  2005   M  Lexus   11  0.000005\n",
              "1517189  2005   M   Yugo    6  0.000003\n",
              "1520284  2006   F  Lexus  208  0.000100\n",
              "1548398  2006   M  Lexus    8  0.000004\n",
              "1551182  2006   M   Yugo    6  0.000003\n",
              "1554593  2007   F  Lexus  171  0.000081\n",
              "1589682  2008   F  Lexus  151  0.000073\n",
              "1620575  2008   M  Lexus    6  0.000003\n",
              "1624907  2009   F  Lexus  132  0.000065\n",
              "1654343  2009   M   Yugo    7  0.000003\n",
              "1659823  2010   F  Lexus  106  0.000054\n",
              "1691926  2010   M   Yugo    5  0.000002\n",
              "1693782  2011   F  Lexus  113  0.000058\n",
              "1728254  2012   F  Lexus   79  0.000041\n",
              "1761749  2013   F  Lexus   89  0.000046\n",
              "1790428  2013   M  Lexus    6  0.000003\n",
              "1795370  2014   F  Lexus   73  0.000037\n",
              "1826048  2014   M   Yugo    5  0.000002\n",
              "1828682  2015   F  Lexus   70  0.000036\n",
              "1863167  2016   F  Lexus   38  0.000020\n",
              "1896357  2017   F  Lexus   35  0.000019"
            ]
          },
          "metadata": {
            "tags": []
          },
          "execution_count": 24
        }
      ]
    },
    {
      "cell_type": "code",
      "metadata": {
        "id": "QjDfv6JABarW"
      },
      "source": [
        "df2 =df[(df['name']=='Michael')&(df['sex']=='M')]"
      ],
      "execution_count": null,
      "outputs": []
    },
    {
      "cell_type": "code",
      "metadata": {
        "id": "6rjsx3CeCJyY"
      },
      "source": [
        "import seaborn as sns\n"
      ],
      "execution_count": null,
      "outputs": []
    },
    {
      "cell_type": "code",
      "metadata": {
        "id": "toSaUzXrCO2u",
        "colab": {
          "base_uri": "https://localhost:8080/",
          "height": 296
        },
        "outputId": "bd1bd7bc-d451-4bd9-ce8d-8ac2c097afd9"
      },
      "source": [
        "sns.lineplot(data=df2,x='year',y='n')"
      ],
      "execution_count": null,
      "outputs": [
        {
          "output_type": "execute_result",
          "data": {
            "text/plain": [
              "<matplotlib.axes._subplots.AxesSubplot at 0x7ff7b325c748>"
            ]
          },
          "metadata": {
            "tags": []
          },
          "execution_count": 29
        },
        {
          "output_type": "display_data",
          "data": {
            "image/png": "[encoded data removed]",
            "text/plain": [
              "<Figure size 432x288 with 1 Axes>"
            ]
          },
          "metadata": {
            "tags": [],
            "needs_background": "light"
          }
        }
      ]
    },
    {
      "cell_type": "code",
      "metadata": {
        "id": "TGBgd2EgC_in"
      },
      "source": [
        ""
      ],
      "execution_count": null,
      "outputs": []
    },
    {
      "cell_type": "markdown",
      "metadata": {
        "id": "xSal1eE2DEUH"
      },
      "source": [
        "what are the most popular names? define popular first : sum or year , data enough??"
      ]
    },
    {
      "cell_type": "code",
      "metadata": {
        "id": "Xlhmsx74DH1_"
      },
      "source": [
        "dfkc=df[df['name']=='Khaleesi']"
      ],
      "execution_count": null,
      "outputs": []
    },
    {
      "cell_type": "code",
      "metadata": {
        "id": "pKihG15lERGO",
        "colab": {
          "base_uri": "https://localhost:8080/"
        },
        "outputId": "496ad68c-68ae-48a2-8a2f-f20b4b6c3e3a"
      },
      "source": [
        "dfkc.sum"
      ],
      "execution_count": null,
      "outputs": [
        {
          "output_type": "execute_result",
          "data": {
            "text/plain": [
              "<bound method DataFrame.sum of          year sex      name    n      prop\n",
              "1696969  2011   F  Khaleesi   28  0.000014\n",
              "1727408  2012   F  Khaleesi  146  0.000075\n",
              "1760644  2013   F  Khaleesi  243  0.000126\n",
              "1793647  2014   F  Khaleesi  369  0.000189\n",
              "1826940  2015   F  Khaleesi  341  0.000175\n",
              "1859981  2016   F  Khaleesi  371  0.000192\n",
              "1892825  2017   F  Khaleesi  466  0.000249>"
            ]
          },
          "metadata": {
            "tags": []
          },
          "execution_count": 31
        }
      ]
    },
    {
      "cell_type": "code",
      "metadata": {
        "id": "Y4OaNObVEWnr"
      },
      "source": [
        "dfk=dfkc.sum"
      ],
      "execution_count": null,
      "outputs": []
    },
    {
      "cell_type": "code",
      "metadata": {
        "id": "LAfblieFE4mK",
        "colab": {
          "base_uri": "https://localhost:8080/",
          "height": 162
        },
        "outputId": "a5018f00-8c16-4f5f-8dab-ce3d596274d0"
      },
      "source": [
        "dfk.sum()\n"
      ],
      "execution_count": null,
      "outputs": [
        {
          "output_type": "error",
          "ename": "AttributeError",
          "evalue": "ignored",
          "traceback": [
            "\u001b[0;31m---------------------------------------------------------------------------\u001b[0m",
            "\u001b[0;31mAttributeError\u001b[0m                            Traceback (most recent call last)",
            "\u001b[0;32m<ipython-input-33-b0eee194e13d>\u001b[0m in \u001b[0;36m<module>\u001b[0;34m()\u001b[0m\n\u001b[0;32m----> 1\u001b[0;31m \u001b[0mdfk\u001b[0m\u001b[0;34m.\u001b[0m\u001b[0msum\u001b[0m\u001b[0;34m(\u001b[0m\u001b[0;34m)\u001b[0m\u001b[0;34m\u001b[0m\u001b[0;34m\u001b[0m\u001b[0m\n\u001b[0m",
            "\u001b[0;31mAttributeError\u001b[0m: 'function' object has no attribute 'sum'"
          ]
        }
      ]
    },
    {
      "cell_type": "code",
      "metadata": {
        "id": "l7TprsWME8Ww",
        "colab": {
          "base_uri": "https://localhost:8080/",
          "height": 105
        },
        "outputId": "ba018397-417a-4ca2-9653-e11d5edc33aa"
      },
      "source": [
        "dfkc.groupby('name').sum()"
      ],
      "execution_count": null,
      "outputs": [
        {
          "output_type": "execute_result",
          "data": {
            "text/html": [
              "<div>\n",
              "<style scoped>\n",
              "    .dataframe tbody tr th:only-of-type {\n",
              "        vertical-align: middle;\n",
              "    }\n",
              "\n",
              "    .dataframe tbody tr th {\n",
              "        vertical-align: top;\n",
              "    }\n",
              "\n",
              "    .dataframe thead th {\n",
              "        text-align: right;\n",
              "    }\n",
              "</style>\n",
              "<table border=\"1\" class=\"dataframe\">\n",
              "  <thead>\n",
              "    <tr style=\"text-align: right;\">\n",
              "      <th></th>\n",
              "      <th>year</th>\n",
              "      <th>n</th>\n",
              "      <th>prop</th>\n",
              "    </tr>\n",
              "    <tr>\n",
              "      <th>name</th>\n",
              "      <th></th>\n",
              "      <th></th>\n",
              "      <th></th>\n",
              "    </tr>\n",
              "  </thead>\n",
              "  <tbody>\n",
              "    <tr>\n",
              "      <th>Khaleesi</th>\n",
              "      <td>14098</td>\n",
              "      <td>1964</td>\n",
              "      <td>0.001021</td>\n",
              "    </tr>\n",
              "  </tbody>\n",
              "</table>\n",
              "</div>"
            ],
            "text/plain": [
              "           year     n      prop\n",
              "name                           \n",
              "Khaleesi  14098  1964  0.001021"
            ]
          },
          "metadata": {
            "tags": []
          },
          "execution_count": 35
        }
      ]
    },
    {
      "cell_type": "code",
      "metadata": {
        "id": "9aOo3JKDFdpa",
        "colab": {
          "base_uri": "https://localhost:8080/",
          "height": 340
        },
        "outputId": "319f12d6-539e-44f2-8faa-52e6bd621b85"
      },
      "source": [
        "df.groupby('name').sum().reset_index().sort_values('n', ascending=False).head(10)\n"
      ],
      "execution_count": null,
      "outputs": [
        {
          "output_type": "execute_result",
          "data": {
            "text/html": [
              "<div>\n",
              "<style scoped>\n",
              "    .dataframe tbody tr th:only-of-type {\n",
              "        vertical-align: middle;\n",
              "    }\n",
              "\n",
              "    .dataframe tbody tr th {\n",
              "        vertical-align: top;\n",
              "    }\n",
              "\n",
              "    .dataframe thead th {\n",
              "        text-align: right;\n",
              "    }\n",
              "</style>\n",
              "<table border=\"1\" class=\"dataframe\">\n",
              "  <thead>\n",
              "    <tr style=\"text-align: right;\">\n",
              "      <th></th>\n",
              "      <th>name</th>\n",
              "      <th>year</th>\n",
              "      <th>n</th>\n",
              "      <th>prop</th>\n",
              "    </tr>\n",
              "  </thead>\n",
              "  <tbody>\n",
              "    <tr>\n",
              "      <th>38684</th>\n",
              "      <td>James</td>\n",
              "      <td>537786</td>\n",
              "      <td>5173828</td>\n",
              "      <td>4.656567</td>\n",
              "    </tr>\n",
              "    <tr>\n",
              "      <th>43000</th>\n",
              "      <td>John</td>\n",
              "      <td>537786</td>\n",
              "      <td>5137142</td>\n",
              "      <td>5.368364</td>\n",
              "    </tr>\n",
              "    <tr>\n",
              "      <th>75030</th>\n",
              "      <td>Robert</td>\n",
              "      <td>533753</td>\n",
              "      <td>4834915</td>\n",
              "      <td>3.866493</td>\n",
              "    </tr>\n",
              "    <tr>\n",
              "      <th>63104</th>\n",
              "      <td>Michael</td>\n",
              "      <td>486663</td>\n",
              "      <td>4372536</td>\n",
              "      <td>2.447292</td>\n",
              "    </tr>\n",
              "    <tr>\n",
              "      <th>61006</th>\n",
              "      <td>Mary</td>\n",
              "      <td>521687</td>\n",
              "      <td>4138360</td>\n",
              "      <td>4.547407</td>\n",
              "    </tr>\n",
              "    <tr>\n",
              "      <th>93182</th>\n",
              "      <td>William</td>\n",
              "      <td>537786</td>\n",
              "      <td>4118553</td>\n",
              "      <td>4.498368</td>\n",
              "    </tr>\n",
              "    <tr>\n",
              "      <th>21472</th>\n",
              "      <td>David</td>\n",
              "      <td>505607</td>\n",
              "      <td>3624225</td>\n",
              "      <td>2.222348</td>\n",
              "    </tr>\n",
              "    <tr>\n",
              "      <th>43715</th>\n",
              "      <td>Joseph</td>\n",
              "      <td>537786</td>\n",
              "      <td>2614083</td>\n",
              "      <td>2.356118</td>\n",
              "    </tr>\n",
              "    <tr>\n",
              "      <th>74539</th>\n",
              "      <td>Richard</td>\n",
              "      <td>503032</td>\n",
              "      <td>2572613</td>\n",
              "      <td>1.848922</td>\n",
              "    </tr>\n",
              "    <tr>\n",
              "      <th>16253</th>\n",
              "      <td>Charles</td>\n",
              "      <td>535777</td>\n",
              "      <td>2398453</td>\n",
              "      <td>2.561257</td>\n",
              "    </tr>\n",
              "  </tbody>\n",
              "</table>\n",
              "</div>"
            ],
            "text/plain": [
              "          name    year        n      prop\n",
              "38684    James  537786  5173828  4.656567\n",
              "43000     John  537786  5137142  5.368364\n",
              "75030   Robert  533753  4834915  3.866493\n",
              "63104  Michael  486663  4372536  2.447292\n",
              "61006     Mary  521687  4138360  4.547407\n",
              "93182  William  537786  4118553  4.498368\n",
              "21472    David  505607  3624225  2.222348\n",
              "43715   Joseph  537786  2614083  2.356118\n",
              "74539  Richard  503032  2572613  1.848922\n",
              "16253  Charles  535777  2398453  2.561257"
            ]
          },
          "metadata": {
            "tags": []
          },
          "execution_count": 36
        }
      ]
    },
    {
      "cell_type": "markdown",
      "metadata": {
        "id": "9K74i3s4IlIY"
      },
      "source": [
        "popular top 10 female or male by number total"
      ]
    },
    {
      "cell_type": "code",
      "metadata": {
        "id": "6E1uCCY6IYMa"
      },
      "source": [
        "out_df=df.groupby(['name','sex']).sum().\\\n",
        "sort_values('n',ascending=False).reset_index().loc[0:9,['name','sex','n']]"
      ],
      "execution_count": null,
      "outputs": []
    },
    {
      "cell_type": "code",
      "metadata": {
        "id": "aOjcX0NvJmeA",
        "colab": {
          "base_uri": "https://localhost:8080/",
          "height": 296
        },
        "outputId": "18d747e5-3fcf-4266-be7d-ef2c337aa6f6"
      },
      "source": [
        "sns.barplot(x='n',y='name',data=out_df)"
      ],
      "execution_count": null,
      "outputs": [
        {
          "output_type": "execute_result",
          "data": {
            "text/plain": [
              "<matplotlib.axes._subplots.AxesSubplot at 0x7ff7b2bcba20>"
            ]
          },
          "metadata": {
            "tags": []
          },
          "execution_count": 46
        },
        {
          "output_type": "display_data",
          "data": {
            "image/png": "[encoded data removed]",
            "text/plain": [
              "<Figure size 432x288 with 1 Axes>"
            ]
          },
          "metadata": {
            "tags": [],
            "needs_background": "light"
          }
        }
      ]
    },
    {
      "cell_type": "markdown",
      "metadata": {
        "id": "ZEp4us1VNII0"
      },
      "source": [
        "# New Section"
      ]
    },
    {
      "cell_type": "code",
      "metadata": {
        "id": "m9keHbt2KeGw"
      },
      "source": [
        "from sklearn.linear_model import LinearRegression\n"
      ],
      "execution_count": null,
      "outputs": []
    },
    {
      "cell_type": "code",
      "metadata": {
        "id": "QeHkG6q4PNP9"
      },
      "source": [
        "pg=pd.read_csv(\"/content/drive/My Drive/data/mpg.csv\")"
      ],
      "execution_count": null,
      "outputs": []
    },
    {
      "cell_type": "code",
      "metadata": {
        "id": "OoNnWw_RPs6L",
        "colab": {
          "base_uri": "https://localhost:8080/",
          "height": 230
        },
        "outputId": "5dff8ad7-0ebd-40bc-e55c-1e5d215d9611"
      },
      "source": [
        "pg.head()\n"
      ],
      "execution_count": null,
      "outputs": [
        {
          "output_type": "execute_result",
          "data": {
            "text/html": [
              "<div>\n",
              "<style scoped>\n",
              "    .dataframe tbody tr th:only-of-type {\n",
              "        vertical-align: middle;\n",
              "    }\n",
              "\n",
              "    .dataframe tbody tr th {\n",
              "        vertical-align: top;\n",
              "    }\n",
              "\n",
              "    .dataframe thead th {\n",
              "        text-align: right;\n",
              "    }\n",
              "</style>\n",
              "<table border=\"1\" class=\"dataframe\">\n",
              "  <thead>\n",
              "    <tr style=\"text-align: right;\">\n",
              "      <th></th>\n",
              "      <th>Unnamed: 0</th>\n",
              "      <th>MPG</th>\n",
              "      <th>Cylinders</th>\n",
              "      <th>Displacement</th>\n",
              "      <th>Horsepower</th>\n",
              "      <th>Weight</th>\n",
              "      <th>Acceleration</th>\n",
              "      <th>Model Year</th>\n",
              "      <th>Origin</th>\n",
              "    </tr>\n",
              "  </thead>\n",
              "  <tbody>\n",
              "    <tr>\n",
              "      <th>0</th>\n",
              "      <td>0</td>\n",
              "      <td>18.0</td>\n",
              "      <td>8</td>\n",
              "      <td>307.0</td>\n",
              "      <td>130.0</td>\n",
              "      <td>3504.0</td>\n",
              "      <td>12.0</td>\n",
              "      <td>70</td>\n",
              "      <td>1</td>\n",
              "    </tr>\n",
              "    <tr>\n",
              "      <th>1</th>\n",
              "      <td>1</td>\n",
              "      <td>15.0</td>\n",
              "      <td>8</td>\n",
              "      <td>350.0</td>\n",
              "      <td>165.0</td>\n",
              "      <td>3693.0</td>\n",
              "      <td>11.5</td>\n",
              "      <td>70</td>\n",
              "      <td>1</td>\n",
              "    </tr>\n",
              "    <tr>\n",
              "      <th>2</th>\n",
              "      <td>2</td>\n",
              "      <td>18.0</td>\n",
              "      <td>8</td>\n",
              "      <td>318.0</td>\n",
              "      <td>150.0</td>\n",
              "      <td>3436.0</td>\n",
              "      <td>11.0</td>\n",
              "      <td>70</td>\n",
              "      <td>1</td>\n",
              "    </tr>\n",
              "    <tr>\n",
              "      <th>3</th>\n",
              "      <td>3</td>\n",
              "      <td>16.0</td>\n",
              "      <td>8</td>\n",
              "      <td>304.0</td>\n",
              "      <td>150.0</td>\n",
              "      <td>3433.0</td>\n",
              "      <td>12.0</td>\n",
              "      <td>70</td>\n",
              "      <td>1</td>\n",
              "    </tr>\n",
              "    <tr>\n",
              "      <th>4</th>\n",
              "      <td>4</td>\n",
              "      <td>17.0</td>\n",
              "      <td>8</td>\n",
              "      <td>302.0</td>\n",
              "      <td>140.0</td>\n",
              "      <td>3449.0</td>\n",
              "      <td>10.5</td>\n",
              "      <td>70</td>\n",
              "      <td>1</td>\n",
              "    </tr>\n",
              "  </tbody>\n",
              "</table>\n",
              "</div>"
            ],
            "text/plain": [
              "   Unnamed: 0   MPG  Cylinders  ...  Acceleration  Model Year  Origin\n",
              "0           0  18.0          8  ...          12.0          70       1\n",
              "1           1  15.0          8  ...          11.5          70       1\n",
              "2           2  18.0          8  ...          11.0          70       1\n",
              "3           3  16.0          8  ...          12.0          70       1\n",
              "4           4  17.0          8  ...          10.5          70       1\n",
              "\n",
              "[5 rows x 9 columns]"
            ]
          },
          "metadata": {
            "tags": []
          },
          "execution_count": 51
        }
      ]
    },
    {
      "cell_type": "code",
      "metadata": {
        "id": "5SyM5zSCPwZ7",
        "colab": {
          "base_uri": "https://localhost:8080/",
          "height": 436
        },
        "outputId": "c27e39f7-cc09-4534-98e8-1266faa472e5"
      },
      "source": [
        "pg\n"
      ],
      "execution_count": null,
      "outputs": [
        {
          "output_type": "execute_result",
          "data": {
            "text/html": [
              "<div>\n",
              "<style scoped>\n",
              "    .dataframe tbody tr th:only-of-type {\n",
              "        vertical-align: middle;\n",
              "    }\n",
              "\n",
              "    .dataframe tbody tr th {\n",
              "        vertical-align: top;\n",
              "    }\n",
              "\n",
              "    .dataframe thead th {\n",
              "        text-align: right;\n",
              "    }\n",
              "</style>\n",
              "<table border=\"1\" class=\"dataframe\">\n",
              "  <thead>\n",
              "    <tr style=\"text-align: right;\">\n",
              "      <th></th>\n",
              "      <th>Unnamed: 0</th>\n",
              "      <th>MPG</th>\n",
              "      <th>Cylinders</th>\n",
              "      <th>Displacement</th>\n",
              "      <th>Horsepower</th>\n",
              "      <th>Weight</th>\n",
              "      <th>Acceleration</th>\n",
              "      <th>Model Year</th>\n",
              "      <th>Origin</th>\n",
              "    </tr>\n",
              "  </thead>\n",
              "  <tbody>\n",
              "    <tr>\n",
              "      <th>0</th>\n",
              "      <td>0</td>\n",
              "      <td>18.0</td>\n",
              "      <td>8</td>\n",
              "      <td>307.0</td>\n",
              "      <td>130.0</td>\n",
              "      <td>3504.0</td>\n",
              "      <td>12.0</td>\n",
              "      <td>70</td>\n",
              "      <td>1</td>\n",
              "    </tr>\n",
              "    <tr>\n",
              "      <th>1</th>\n",
              "      <td>1</td>\n",
              "      <td>15.0</td>\n",
              "      <td>8</td>\n",
              "      <td>350.0</td>\n",
              "      <td>165.0</td>\n",
              "      <td>3693.0</td>\n",
              "      <td>11.5</td>\n",
              "      <td>70</td>\n",
              "      <td>1</td>\n",
              "    </tr>\n",
              "    <tr>\n",
              "      <th>2</th>\n",
              "      <td>2</td>\n",
              "      <td>18.0</td>\n",
              "      <td>8</td>\n",
              "      <td>318.0</td>\n",
              "      <td>150.0</td>\n",
              "      <td>3436.0</td>\n",
              "      <td>11.0</td>\n",
              "      <td>70</td>\n",
              "      <td>1</td>\n",
              "    </tr>\n",
              "    <tr>\n",
              "      <th>3</th>\n",
              "      <td>3</td>\n",
              "      <td>16.0</td>\n",
              "      <td>8</td>\n",
              "      <td>304.0</td>\n",
              "      <td>150.0</td>\n",
              "      <td>3433.0</td>\n",
              "      <td>12.0</td>\n",
              "      <td>70</td>\n",
              "      <td>1</td>\n",
              "    </tr>\n",
              "    <tr>\n",
              "      <th>4</th>\n",
              "      <td>4</td>\n",
              "      <td>17.0</td>\n",
              "      <td>8</td>\n",
              "      <td>302.0</td>\n",
              "      <td>140.0</td>\n",
              "      <td>3449.0</td>\n",
              "      <td>10.5</td>\n",
              "      <td>70</td>\n",
              "      <td>1</td>\n",
              "    </tr>\n",
              "    <tr>\n",
              "      <th>...</th>\n",
              "      <td>...</td>\n",
              "      <td>...</td>\n",
              "      <td>...</td>\n",
              "      <td>...</td>\n",
              "      <td>...</td>\n",
              "      <td>...</td>\n",
              "      <td>...</td>\n",
              "      <td>...</td>\n",
              "      <td>...</td>\n",
              "    </tr>\n",
              "    <tr>\n",
              "      <th>393</th>\n",
              "      <td>393</td>\n",
              "      <td>27.0</td>\n",
              "      <td>4</td>\n",
              "      <td>140.0</td>\n",
              "      <td>86.0</td>\n",
              "      <td>2790.0</td>\n",
              "      <td>15.6</td>\n",
              "      <td>82</td>\n",
              "      <td>1</td>\n",
              "    </tr>\n",
              "    <tr>\n",
              "      <th>394</th>\n",
              "      <td>394</td>\n",
              "      <td>44.0</td>\n",
              "      <td>4</td>\n",
              "      <td>97.0</td>\n",
              "      <td>52.0</td>\n",
              "      <td>2130.0</td>\n",
              "      <td>24.6</td>\n",
              "      <td>82</td>\n",
              "      <td>2</td>\n",
              "    </tr>\n",
              "    <tr>\n",
              "      <th>395</th>\n",
              "      <td>395</td>\n",
              "      <td>32.0</td>\n",
              "      <td>4</td>\n",
              "      <td>135.0</td>\n",
              "      <td>84.0</td>\n",
              "      <td>2295.0</td>\n",
              "      <td>11.6</td>\n",
              "      <td>82</td>\n",
              "      <td>1</td>\n",
              "    </tr>\n",
              "    <tr>\n",
              "      <th>396</th>\n",
              "      <td>396</td>\n",
              "      <td>28.0</td>\n",
              "      <td>4</td>\n",
              "      <td>120.0</td>\n",
              "      <td>79.0</td>\n",
              "      <td>2625.0</td>\n",
              "      <td>18.6</td>\n",
              "      <td>82</td>\n",
              "      <td>1</td>\n",
              "    </tr>\n",
              "    <tr>\n",
              "      <th>397</th>\n",
              "      <td>397</td>\n",
              "      <td>31.0</td>\n",
              "      <td>4</td>\n",
              "      <td>119.0</td>\n",
              "      <td>82.0</td>\n",
              "      <td>2720.0</td>\n",
              "      <td>19.4</td>\n",
              "      <td>82</td>\n",
              "      <td>1</td>\n",
              "    </tr>\n",
              "  </tbody>\n",
              "</table>\n",
              "<p>398 rows × 9 columns</p>\n",
              "</div>"
            ],
            "text/plain": [
              "     Unnamed: 0   MPG  Cylinders  ...  Acceleration  Model Year  Origin\n",
              "0             0  18.0          8  ...          12.0          70       1\n",
              "1             1  15.0          8  ...          11.5          70       1\n",
              "2             2  18.0          8  ...          11.0          70       1\n",
              "3             3  16.0          8  ...          12.0          70       1\n",
              "4             4  17.0          8  ...          10.5          70       1\n",
              "..          ...   ...        ...  ...           ...         ...     ...\n",
              "393         393  27.0          4  ...          15.6          82       1\n",
              "394         394  44.0          4  ...          24.6          82       2\n",
              "395         395  32.0          4  ...          11.6          82       1\n",
              "396         396  28.0          4  ...          18.6          82       1\n",
              "397         397  31.0          4  ...          19.4          82       1\n",
              "\n",
              "[398 rows x 9 columns]"
            ]
          },
          "metadata": {
            "tags": []
          },
          "execution_count": 52
        }
      ]
    },
    {
      "cell_type": "code",
      "metadata": {
        "id": "eYVO_a0dPx_n"
      },
      "source": [
        "model=LinearRegression()"
      ],
      "execution_count": null,
      "outputs": []
    },
    {
      "cell_type": "code",
      "metadata": {
        "id": "5oU94geiQqJR"
      },
      "source": [
        "import numpy as np"
      ],
      "execution_count": null,
      "outputs": []
    },
    {
      "cell_type": "code",
      "metadata": {
        "id": "9Bpn9Q-DQ8Po"
      },
      "source": [
        "y= np.array(pg['MPG'])"
      ],
      "execution_count": null,
      "outputs": []
    },
    {
      "cell_type": "code",
      "metadata": {
        "id": "vwb1qCldRKj2"
      },
      "source": [
        "x= np.array(pg['Displacement']).reshape(-1,1)"
      ],
      "execution_count": null,
      "outputs": []
    },
    {
      "cell_type": "code",
      "metadata": {
        "id": "QS7CveWrRcqs",
        "colab": {
          "base_uri": "https://localhost:8080/"
        },
        "outputId": "1b58e6bc-6bd8-4851-90c2-e6391da179c8"
      },
      "source": [
        "model.fit(X=x,y=y)"
      ],
      "execution_count": null,
      "outputs": [
        {
          "output_type": "execute_result",
          "data": {
            "text/plain": [
              "LinearRegression(copy_X=True, fit_intercept=True, n_jobs=None, normalize=False)"
            ]
          },
          "metadata": {
            "tags": []
          },
          "execution_count": 64
        }
      ]
    },
    {
      "cell_type": "code",
      "metadata": {
        "id": "jpxQ3l0mRkKe",
        "colab": {
          "base_uri": "https://localhost:8080/"
        },
        "outputId": "f7ddf026-4a51-42da-fa70-81a5d1c55b21"
      },
      "source": [
        "model.intercept_"
      ],
      "execution_count": null,
      "outputs": [
        {
          "output_type": "execute_result",
          "data": {
            "text/plain": [
              "35.17475015429319"
            ]
          },
          "metadata": {
            "tags": []
          },
          "execution_count": 65
        }
      ]
    },
    {
      "cell_type": "code",
      "metadata": {
        "id": "LsFoZ9zwSp8A",
        "colab": {
          "base_uri": "https://localhost:8080/"
        },
        "outputId": "7afcfbbc-cede-4ced-c976-5c15fb2d8525"
      },
      "source": [
        "model.coef_"
      ],
      "execution_count": null,
      "outputs": [
        {
          "output_type": "execute_result",
          "data": {
            "text/plain": [
              "array([-0.06028241])"
            ]
          },
          "metadata": {
            "tags": []
          },
          "execution_count": 66
        }
      ]
    },
    {
      "cell_type": "code",
      "metadata": {
        "id": "60mV-CufSuog",
        "colab": {
          "base_uri": "https://localhost:8080/"
        },
        "outputId": "627d5bb8-bb8f-4e7d-9fc0-434dcbd1f1df"
      },
      "source": [
        "model.predict(np.array(50).reshape(-1,1))"
      ],
      "execution_count": null,
      "outputs": [
        {
          "output_type": "execute_result",
          "data": {
            "text/plain": [
              "array([32.16062988])"
            ]
          },
          "metadata": {
            "tags": []
          },
          "execution_count": 67
        }
      ]
    },
    {
      "cell_type": "code",
      "metadata": {
        "id": "0RLDYnJQV9oy",
        "colab": {
          "base_uri": "https://localhost:8080/"
        },
        "outputId": "0c5f7efe-219b-4270-eae2-4cd1944ff285"
      },
      "source": [
        "model.predict(np.array(140).reshape(-1,1))"
      ],
      "execution_count": null,
      "outputs": [
        {
          "output_type": "execute_result",
          "data": {
            "text/plain": [
              "array([26.73521339])"
            ]
          },
          "metadata": {
            "tags": []
          },
          "execution_count": 68
        }
      ]
    },
    {
      "cell_type": "code",
      "metadata": {
        "id": "dKJhw1P4WKVo"
      },
      "source": [
        ""
      ],
      "execution_count": null,
      "outputs": []
    }
  ]
}