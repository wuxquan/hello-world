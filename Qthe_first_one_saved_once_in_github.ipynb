{
  "nbformat": 4,
  "nbformat_minor": 0,
  "metadata": {
    "colab": {
      "name": "Qthe first one saved once in github.ipynb",
      "provenance": [],
      "collapsed_sections": [],
      "authorship_tag": "ABX9TyPRSPVQmouPiw9NjVWTOqdB",
      "include_colab_link": true
    },
    "kernelspec": {
      "name": "python3",
      "display_name": "Python 3"
    }
  },
  "cells": [
    {
      "cell_type": "markdown",
      "metadata": {
        "id": "view-in-github",
        "colab_type": "text"
      },
      "source": [
        "<a href=\"https://colab.research.google.com/github/wuxquan/hello-world/blob/master/Qthe_first_one_saved_once_in_github.ipynb\" target=\"_parent\"><img src=\"https://colab.research.google.com/assets/colab-badge.svg\" alt=\"Open In Colab\"/></a>"
      ]
    },
    {
      "cell_type": "markdown",
      "metadata": {
        "id": "pcfun0_jQv7h"
      },
      "source": [
        "not sure numpy in env. or not, so import, don't know where to check env.\n"
      ]
    },
    {
      "cell_type": "code",
      "metadata": {
        "colab": {
          "base_uri": "https://localhost:8080/"
        },
        "id": "PQPxVLXvO5te",
        "outputId": "e16dda56-0466-427c-a4bb-2a99582b4676"
      },
      "source": [
        "import numpy as np\n",
        "print(np.__version__)\n",
        "\n"
      ],
      "execution_count": 2,
      "outputs": [
        {
          "output_type": "stream",
          "text": [
            "1.18.5\n"
          ],
          "name": "stdout"
        }
      ]
    },
    {
      "cell_type": "code",
      "metadata": {
        "colab": {
          "base_uri": "https://localhost:8080/"
        },
        "id": "F-I5pco_U0ST",
        "outputId": "1eae183a-b0ef-4ddc-cadf-8b4cef8e1057"
      },
      "source": [
        "a=[10,20,30,40,50]\n",
        "print(a)\n",
        "type(a)\n",
        "b=np.array(a)\n",
        "print(b)\n",
        "type(b)"
      ],
      "execution_count": 6,
      "outputs": [
        {
          "output_type": "stream",
          "text": [
            "[10, 20, 30, 40, 50]\n",
            "[10 20 30 40 50]\n"
          ],
          "name": "stdout"
        },
        {
          "output_type": "execute_result",
          "data": {
            "text/plain": [
              "numpy.ndarray"
            ]
          },
          "metadata": {
            "tags": []
          },
          "execution_count": 6
        }
      ]
    },
    {
      "cell_type": "code",
      "metadata": {
        "colab": {
          "base_uri": "https://localhost:8080/"
        },
        "id": "1xwIDFXBRobh",
        "outputId": "0fb2321f-84ef-4b23-b9ff-610d7e460de8"
      },
      "source": [
        "b+100"
      ],
      "execution_count": 8,
      "outputs": [
        {
          "output_type": "execute_result",
          "data": {
            "text/plain": [
              "array([110, 120, 130, 140, 150])"
            ]
          },
          "metadata": {
            "tags": []
          },
          "execution_count": 8
        }
      ]
    },
    {
      "cell_type": "code",
      "metadata": {
        "colab": {
          "base_uri": "https://localhost:8080/"
        },
        "id": "IgfN6b8WXKeA",
        "outputId": "02f670be-c049-4d36-9aed-6c4d14fff8ea"
      },
      "source": [
        "c=b+1.1\n",
        "print(c)\n",
        "print(c.dtype)\n",
        "print(b.dtype)\n",
        "b.shape"
      ],
      "execution_count": 20,
      "outputs": [
        {
          "output_type": "stream",
          "text": [
            "[11.1 21.1 31.1 41.1 51.1]\n",
            "float64\n",
            "int64\n"
          ],
          "name": "stdout"
        },
        {
          "output_type": "execute_result",
          "data": {
            "text/plain": [
              "(5,)"
            ]
          },
          "metadata": {
            "tags": []
          },
          "execution_count": 20
        }
      ]
    },
    {
      "cell_type": "code",
      "metadata": {
        "colab": {
          "base_uri": "https://localhost:8080/"
        },
        "id": "XSZwRT2TV_-8",
        "outputId": "b4a54496-90b1-45b3-cfae-fc7196e1f11d"
      },
      "source": [
        "a =np.array([1,2,3,4,5,6,7,8,9,10], ndmin=2) #set this as two dims\n",
        "print(a)\n",
        "a.shape"
      ],
      "execution_count": 22,
      "outputs": [
        {
          "output_type": "stream",
          "text": [
            "[[ 1  2  3  4  5  6  7  8  9 10]]\n"
          ],
          "name": "stdout"
        },
        {
          "output_type": "execute_result",
          "data": {
            "text/plain": [
              "(1, 10)"
            ]
          },
          "metadata": {
            "tags": []
          },
          "execution_count": 22
        }
      ]
    },
    {
      "cell_type": "code",
      "metadata": {
        "colab": {
          "base_uri": "https://localhost:8080/"
        },
        "id": "a_hMwZziVdXF",
        "outputId": "4914f452-2dff-4340-cdd2-808e17e8f4bf"
      },
      "source": [
        "a =np.array([1,2,3,4,5,6,7,8,9,10], dtype=complex)\n",
        "print(a)\n",
        "print(a.shape)\n",
        "a.dtype"
      ],
      "execution_count": 25,
      "outputs": [
        {
          "output_type": "stream",
          "text": [
            "[ 1.+0.j  2.+0.j  3.+0.j  4.+0.j  5.+0.j  6.+0.j  7.+0.j  8.+0.j  9.+0.j\n",
            " 10.+0.j]\n",
            "(10,)\n"
          ],
          "name": "stdout"
        },
        {
          "output_type": "execute_result",
          "data": {
            "text/plain": [
              "dtype('complex128')"
            ]
          },
          "metadata": {
            "tags": []
          },
          "execution_count": 25
        }
      ]
    },
    {
      "cell_type": "code",
      "metadata": {
        "colab": {
          "base_uri": "https://localhost:8080/"
        },
        "id": "g32POxoeaXH8",
        "outputId": "4bec7ed2-a1ae-4fde-fde3-047b85e72290"
      },
      "source": [
        "a = np.array([1,2,3]) #single dim\n",
        "print(a.shape)\n",
        "b = np.array([[1,2,3], [4,5,6]]) #two dims\n",
        "print(b)\n",
        "b.shape\n"
      ],
      "execution_count": 34,
      "outputs": [
        {
          "output_type": "stream",
          "text": [
            "(3,)\n",
            "[[1 2 3]\n",
            " [4 5 6]]\n"
          ],
          "name": "stdout"
        },
        {
          "output_type": "execute_result",
          "data": {
            "text/plain": [
              "(2, 3)"
            ]
          },
          "metadata": {
            "tags": []
          },
          "execution_count": 34
        }
      ]
    },
    {
      "cell_type": "code",
      "metadata": {
        "colab": {
          "base_uri": "https://localhost:8080/"
        },
        "id": "T0L5y4OGdJwN",
        "outputId": "f73da3bc-f81c-4729-a821-580e8301840d"
      },
      "source": [
        "c = np.array([[[1,2,3], [4,5,6]],[[11,22,33],[44,55,66]]])\n",
        "print(c)\n",
        "c.shape\n"
      ],
      "execution_count": 39,
      "outputs": [
        {
          "output_type": "stream",
          "text": [
            "[[[ 1  2  3]\n",
            "  [ 4  5  6]]\n",
            "\n",
            " [[11 22 33]\n",
            "  [44 55 66]]]\n"
          ],
          "name": "stdout"
        },
        {
          "output_type": "execute_result",
          "data": {
            "text/plain": [
              "(2, 2, 3)"
            ]
          },
          "metadata": {
            "tags": []
          },
          "execution_count": 39
        }
      ]
    },
    {
      "cell_type": "code",
      "metadata": {
        "colab": {
          "base_uri": "https://localhost:8080/"
        },
        "id": "llMx9cFneESD",
        "outputId": "ee59a5f6-b65a-4a33-8ce7-063532f35780"
      },
      "source": [
        "c = np.array([[1,2,3], [4,5,6],[11,22,33],[44,55,66]]) # two dims\n",
        "print(c)\n",
        "c.shape"
      ],
      "execution_count": 41,
      "outputs": [
        {
          "output_type": "stream",
          "text": [
            "[[ 1  2  3]\n",
            " [ 4  5  6]\n",
            " [11 22 33]\n",
            " [44 55 66]]\n"
          ],
          "name": "stdout"
        },
        {
          "output_type": "execute_result",
          "data": {
            "text/plain": [
              "(4, 3)"
            ]
          },
          "metadata": {
            "tags": []
          },
          "execution_count": 41
        }
      ]
    },
    {
      "cell_type": "code",
      "metadata": {
        "id": "ld2lrr9GeWdI"
      },
      "source": [
        ""
      ],
      "execution_count": null,
      "outputs": []
    }
  ]
}